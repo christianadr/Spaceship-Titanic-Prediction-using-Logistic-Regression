{
 "cells": [
  {
   "cell_type": "markdown",
   "id": "fd2331e3",
   "metadata": {
    "id": "OxZ8IPSV8dqZ",
    "papermill": {
     "duration": 0.021456,
     "end_time": "2022-09-29T21:07:25.681614",
     "exception": false,
     "start_time": "2022-09-29T21:07:25.660158",
     "status": "completed"
    },
    "tags": []
   },
   "source": [
    "# **Spaceship Titanic Prediction using Logistic Regression**\n",
    "### **Predict which passengers are transported to an alternate dimension**\n",
    "\n",
    "#### **Dataset description**\n",
    "The dataset was from the Spaceship Titanic Competition from Kaggle.\n",
    "\n",
    "The competition tasks us to predict whether a passenger was transported to an alternate dimension during the *Spaceship Titanic's* collision with the spacetime anomaly.\n",
    "<br><br>\n",
    "\n",
    "#### **Data fields description**\n",
    "* **PassengerId** - A unique Id for each passenger. Each Id takes the form gggg_pp where gggg indicates a group the passenger is travelling with and pp is their number within the group. People in a group are often family members, but not always.\n",
    "\n",
    "* **HomePlanet** - The planet the passenger departed from, typically their planet of permanent residence.\n",
    "\n",
    "* **CryoSleep** - Indicates whether the passenger elected to be put into suspended animation for the duration of the voyage. Passengers in cryosleep are confined to their cabins.\n",
    "\n",
    "* **Cabin** - The cabin number where the passenger is staying. Takes the form deck/num/side, where side can be either P for Port or S for Starboard.\n",
    "\n",
    "* **Destination** - The planet the passenger will be debarking to.\n",
    "\n",
    "* **Age** - The age of the passenger.\n",
    "\n",
    "* **VIP** - Whether the passenger has paid for special VIP service during the voyage.\n",
    "\n",
    "* **RoomService, FoodCourt, ShoppingMall, Spa, VRDeck** - Amount the passenger has billed at each of the Spaceship Titanic's many luxury amenities.\n",
    "\n",
    "* **Name** - The first and last names of the passenger.\n",
    "\n",
    "* **Transported** - Whether the passenger was transported to another dimension. This is the target, the column you are trying to predict.\n",
    "\n",
    "<br>\n",
    "\n",
    "#### **Workflow for predicting**\n",
    "\n",
    "1. Analyze the Dataset\n",
    "2. Feature Engineering\n",
    "3. Statistics & Data Visualizations\n",
    "4. Handling Null Values\n",
    "5. Data Preprocessing\n",
    "6. Feature Selection\n",
    "7. Model Training and Evaluation"
   ]
  },
  {
   "cell_type": "code",
   "execution_count": 1,
   "id": "3b81a62e",
   "metadata": {
    "execution": {
     "iopub.execute_input": "2022-09-29T21:07:25.718958Z",
     "iopub.status.busy": "2022-09-29T21:07:25.718331Z",
     "iopub.status.idle": "2022-09-29T21:07:27.190511Z",
     "shell.execute_reply": "2022-09-29T21:07:27.189195Z"
    },
    "papermill": {
     "duration": 1.494345,
     "end_time": "2022-09-29T21:07:27.193648",
     "exception": false,
     "start_time": "2022-09-29T21:07:25.699303",
     "status": "completed"
    },
    "tags": []
   },
   "outputs": [],
   "source": [
    "import numpy as np\n",
    "import pandas as pd\n",
    "\n",
    "# For visualizations\n",
    "import matplotlib.pyplot as plt\n",
    "import seaborn as sns\n",
    "\n",
    "# For preprocessing & feature selection\n",
    "from sklearn.preprocessing import LabelEncoder, StandardScaler, PolynomialFeatures\n",
    "from sklearn.feature_selection import SelectKBest, chi2\n",
    "\n",
    "# For machine learning\n",
    "from sklearn.model_selection import train_test_split\n",
    "from sklearn.linear_model import LogisticRegression\n",
    "from sklearn.metrics import classification_report, confusion_matrix, accuracy_score, roc_curve, roc_auc_score"
   ]
  },
  {
   "cell_type": "code",
   "execution_count": 2,
   "id": "2f0d679e",
   "metadata": {
    "execution": {
     "iopub.execute_input": "2022-09-29T21:07:27.230382Z",
     "iopub.status.busy": "2022-09-29T21:07:27.229964Z",
     "iopub.status.idle": "2022-09-29T21:07:27.309320Z",
     "shell.execute_reply": "2022-09-29T21:07:27.308247Z"
    },
    "id": "NStzIhEi7AJJ",
    "papermill": {
     "duration": 0.100197,
     "end_time": "2022-09-29T21:07:27.312045",
     "exception": false,
     "start_time": "2022-09-29T21:07:27.211848",
     "status": "completed"
    },
    "tags": []
   },
   "outputs": [],
   "source": [
    "train_ = pd.read_csv('../input/spaceship-titanic/train.csv')\n",
    "test_ = pd.read_csv('../input/spaceship-titanic/test.csv')"
   ]
  },
  {
   "cell_type": "markdown",
   "id": "51984aff",
   "metadata": {
    "id": "Smy5NeDmGnPL",
    "papermill": {
     "duration": 0.017815,
     "end_time": "2022-09-29T21:07:27.347800",
     "exception": false,
     "start_time": "2022-09-29T21:07:27.329985",
     "status": "completed"
    },
    "tags": []
   },
   "source": [
    "### **Analyze the Dataset**"
   ]
  },
  {
   "cell_type": "code",
   "execution_count": 3,
   "id": "8126f228",
   "metadata": {
    "execution": {
     "iopub.execute_input": "2022-09-29T21:07:27.384920Z",
     "iopub.status.busy": "2022-09-29T21:07:27.384108Z",
     "iopub.status.idle": "2022-09-29T21:07:27.416418Z",
     "shell.execute_reply": "2022-09-29T21:07:27.415163Z"
    },
    "id": "g2fvIhIFGtca",
    "outputId": "d4d99fa2-330b-42a8-a36a-c124196ae739",
    "papermill": {
     "duration": 0.054144,
     "end_time": "2022-09-29T21:07:27.419635",
     "exception": false,
     "start_time": "2022-09-29T21:07:27.365491",
     "status": "completed"
    },
    "tags": []
   },
   "outputs": [
    {
     "data": {
      "text/html": [
       "<div>\n",
       "<style scoped>\n",
       "    .dataframe tbody tr th:only-of-type {\n",
       "        vertical-align: middle;\n",
       "    }\n",
       "\n",
       "    .dataframe tbody tr th {\n",
       "        vertical-align: top;\n",
       "    }\n",
       "\n",
       "    .dataframe thead th {\n",
       "        text-align: right;\n",
       "    }\n",
       "</style>\n",
       "<table border=\"1\" class=\"dataframe\">\n",
       "  <thead>\n",
       "    <tr style=\"text-align: right;\">\n",
       "      <th></th>\n",
       "      <th>PassengerId</th>\n",
       "      <th>HomePlanet</th>\n",
       "      <th>CryoSleep</th>\n",
       "      <th>Cabin</th>\n",
       "      <th>Destination</th>\n",
       "      <th>Age</th>\n",
       "      <th>VIP</th>\n",
       "      <th>RoomService</th>\n",
       "      <th>FoodCourt</th>\n",
       "      <th>ShoppingMall</th>\n",
       "      <th>Spa</th>\n",
       "      <th>VRDeck</th>\n",
       "      <th>Name</th>\n",
       "      <th>Transported</th>\n",
       "    </tr>\n",
       "  </thead>\n",
       "  <tbody>\n",
       "    <tr>\n",
       "      <th>0</th>\n",
       "      <td>0001_01</td>\n",
       "      <td>Europa</td>\n",
       "      <td>False</td>\n",
       "      <td>B/0/P</td>\n",
       "      <td>TRAPPIST-1e</td>\n",
       "      <td>39.0</td>\n",
       "      <td>False</td>\n",
       "      <td>0.0</td>\n",
       "      <td>0.0</td>\n",
       "      <td>0.0</td>\n",
       "      <td>0.0</td>\n",
       "      <td>0.0</td>\n",
       "      <td>Maham Ofracculy</td>\n",
       "      <td>False</td>\n",
       "    </tr>\n",
       "    <tr>\n",
       "      <th>1</th>\n",
       "      <td>0002_01</td>\n",
       "      <td>Earth</td>\n",
       "      <td>False</td>\n",
       "      <td>F/0/S</td>\n",
       "      <td>TRAPPIST-1e</td>\n",
       "      <td>24.0</td>\n",
       "      <td>False</td>\n",
       "      <td>109.0</td>\n",
       "      <td>9.0</td>\n",
       "      <td>25.0</td>\n",
       "      <td>549.0</td>\n",
       "      <td>44.0</td>\n",
       "      <td>Juanna Vines</td>\n",
       "      <td>True</td>\n",
       "    </tr>\n",
       "    <tr>\n",
       "      <th>2</th>\n",
       "      <td>0003_01</td>\n",
       "      <td>Europa</td>\n",
       "      <td>False</td>\n",
       "      <td>A/0/S</td>\n",
       "      <td>TRAPPIST-1e</td>\n",
       "      <td>58.0</td>\n",
       "      <td>True</td>\n",
       "      <td>43.0</td>\n",
       "      <td>3576.0</td>\n",
       "      <td>0.0</td>\n",
       "      <td>6715.0</td>\n",
       "      <td>49.0</td>\n",
       "      <td>Altark Susent</td>\n",
       "      <td>False</td>\n",
       "    </tr>\n",
       "    <tr>\n",
       "      <th>3</th>\n",
       "      <td>0003_02</td>\n",
       "      <td>Europa</td>\n",
       "      <td>False</td>\n",
       "      <td>A/0/S</td>\n",
       "      <td>TRAPPIST-1e</td>\n",
       "      <td>33.0</td>\n",
       "      <td>False</td>\n",
       "      <td>0.0</td>\n",
       "      <td>1283.0</td>\n",
       "      <td>371.0</td>\n",
       "      <td>3329.0</td>\n",
       "      <td>193.0</td>\n",
       "      <td>Solam Susent</td>\n",
       "      <td>False</td>\n",
       "    </tr>\n",
       "    <tr>\n",
       "      <th>4</th>\n",
       "      <td>0004_01</td>\n",
       "      <td>Earth</td>\n",
       "      <td>False</td>\n",
       "      <td>F/1/S</td>\n",
       "      <td>TRAPPIST-1e</td>\n",
       "      <td>16.0</td>\n",
       "      <td>False</td>\n",
       "      <td>303.0</td>\n",
       "      <td>70.0</td>\n",
       "      <td>151.0</td>\n",
       "      <td>565.0</td>\n",
       "      <td>2.0</td>\n",
       "      <td>Willy Santantines</td>\n",
       "      <td>True</td>\n",
       "    </tr>\n",
       "  </tbody>\n",
       "</table>\n",
       "</div>"
      ],
      "text/plain": [
       "  PassengerId HomePlanet CryoSleep  Cabin  Destination   Age    VIP  \\\n",
       "0     0001_01     Europa     False  B/0/P  TRAPPIST-1e  39.0  False   \n",
       "1     0002_01      Earth     False  F/0/S  TRAPPIST-1e  24.0  False   \n",
       "2     0003_01     Europa     False  A/0/S  TRAPPIST-1e  58.0   True   \n",
       "3     0003_02     Europa     False  A/0/S  TRAPPIST-1e  33.0  False   \n",
       "4     0004_01      Earth     False  F/1/S  TRAPPIST-1e  16.0  False   \n",
       "\n",
       "   RoomService  FoodCourt  ShoppingMall     Spa  VRDeck               Name  \\\n",
       "0          0.0        0.0           0.0     0.0     0.0    Maham Ofracculy   \n",
       "1        109.0        9.0          25.0   549.0    44.0       Juanna Vines   \n",
       "2         43.0     3576.0           0.0  6715.0    49.0      Altark Susent   \n",
       "3          0.0     1283.0         371.0  3329.0   193.0       Solam Susent   \n",
       "4        303.0       70.0         151.0   565.0     2.0  Willy Santantines   \n",
       "\n",
       "   Transported  \n",
       "0        False  \n",
       "1         True  \n",
       "2        False  \n",
       "3        False  \n",
       "4         True  "
      ]
     },
     "execution_count": 3,
     "metadata": {},
     "output_type": "execute_result"
    }
   ],
   "source": [
    "# Show first five rows\n",
    "train_.head()"
   ]
  },
  {
   "cell_type": "markdown",
   "id": "945a914d",
   "metadata": {
    "id": "whh90MuHJuzW",
    "papermill": {
     "duration": 0.017298,
     "end_time": "2022-09-29T21:07:27.454700",
     "exception": false,
     "start_time": "2022-09-29T21:07:27.437402",
     "status": "completed"
    },
    "tags": []
   },
   "source": [
    "Display the shape of the data, its columns, and their corresponding dtypes."
   ]
  },
  {
   "cell_type": "code",
   "execution_count": 4,
   "id": "dbe3a90a",
   "metadata": {
    "execution": {
     "iopub.execute_input": "2022-09-29T21:07:27.491899Z",
     "iopub.status.busy": "2022-09-29T21:07:27.491473Z",
     "iopub.status.idle": "2022-09-29T21:07:27.499155Z",
     "shell.execute_reply": "2022-09-29T21:07:27.497784Z"
    },
    "id": "dKn728Z7Jj6e",
    "outputId": "b6d09780-41c9-4fa0-989e-b817b3cf0cad",
    "papermill": {
     "duration": 0.028872,
     "end_time": "2022-09-29T21:07:27.501298",
     "exception": false,
     "start_time": "2022-09-29T21:07:27.472426",
     "status": "completed"
    },
    "tags": []
   },
   "outputs": [
    {
     "data": {
      "text/plain": [
       "(8693, 14)"
      ]
     },
     "execution_count": 4,
     "metadata": {},
     "output_type": "execute_result"
    }
   ],
   "source": [
    "train_.shape"
   ]
  },
  {
   "cell_type": "code",
   "execution_count": 5,
   "id": "de5ffe0e",
   "metadata": {
    "execution": {
     "iopub.execute_input": "2022-09-29T21:07:27.538886Z",
     "iopub.status.busy": "2022-09-29T21:07:27.538449Z",
     "iopub.status.idle": "2022-09-29T21:07:27.545315Z",
     "shell.execute_reply": "2022-09-29T21:07:27.544410Z"
    },
    "id": "GYKYtKDfJ6KC",
    "outputId": "035cc682-141a-4d96-b588-f6a181442b82",
    "papermill": {
     "duration": 0.028651,
     "end_time": "2022-09-29T21:07:27.547411",
     "exception": false,
     "start_time": "2022-09-29T21:07:27.518760",
     "status": "completed"
    },
    "tags": []
   },
   "outputs": [
    {
     "data": {
      "text/plain": [
       "['PassengerId',\n",
       " 'HomePlanet',\n",
       " 'CryoSleep',\n",
       " 'Cabin',\n",
       " 'Destination',\n",
       " 'Age',\n",
       " 'VIP',\n",
       " 'RoomService',\n",
       " 'FoodCourt',\n",
       " 'ShoppingMall',\n",
       " 'Spa',\n",
       " 'VRDeck',\n",
       " 'Name',\n",
       " 'Transported']"
      ]
     },
     "execution_count": 5,
     "metadata": {},
     "output_type": "execute_result"
    }
   ],
   "source": [
    "train_.columns.tolist()"
   ]
  },
  {
   "cell_type": "code",
   "execution_count": 6,
   "id": "618fedbe",
   "metadata": {
    "execution": {
     "iopub.execute_input": "2022-09-29T21:07:27.586658Z",
     "iopub.status.busy": "2022-09-29T21:07:27.586146Z",
     "iopub.status.idle": "2022-09-29T21:07:27.595101Z",
     "shell.execute_reply": "2022-09-29T21:07:27.593881Z"
    },
    "id": "20Ogzy4UJ5z7",
    "outputId": "ebb8b8ba-bea3-42be-b5d5-63ca2b05c8e2",
    "papermill": {
     "duration": 0.031096,
     "end_time": "2022-09-29T21:07:27.597610",
     "exception": false,
     "start_time": "2022-09-29T21:07:27.566514",
     "status": "completed"
    },
    "tags": []
   },
   "outputs": [
    {
     "data": {
      "text/plain": [
       "PassengerId      object\n",
       "HomePlanet       object\n",
       "CryoSleep        object\n",
       "Cabin            object\n",
       "Destination      object\n",
       "Age             float64\n",
       "VIP              object\n",
       "RoomService     float64\n",
       "FoodCourt       float64\n",
       "ShoppingMall    float64\n",
       "Spa             float64\n",
       "VRDeck          float64\n",
       "Name             object\n",
       "Transported        bool\n",
       "dtype: object"
      ]
     },
     "execution_count": 6,
     "metadata": {},
     "output_type": "execute_result"
    }
   ],
   "source": [
    "train_.dtypes"
   ]
  },
  {
   "cell_type": "markdown",
   "id": "a0d29619",
   "metadata": {
    "id": "KmPFKfLOKHy1",
    "papermill": {
     "duration": 0.019279,
     "end_time": "2022-09-29T21:07:27.636161",
     "exception": false,
     "start_time": "2022-09-29T21:07:27.616882",
     "status": "completed"
    },
    "tags": []
   },
   "source": [
    "**Observations**\n",
    "\n",
    "* The data has 8,693 entries and 14 columns.\n",
    "* The columns are 'PassengerId', 'HomePlanet', 'CryoSleep', 'Cabin', 'Destination', 'Age', 'VIP', 'RoomService', 'FoodCourt', 'ShoppingMall', 'Spa', 'VRDeck', 'Name', and 'Transported'.\n",
    "* The following are the columns respective dtypes:\n",
    " * PassengerId  - object\n",
    " * HomePlanet   - object\n",
    " * CryoSleep    - object\n",
    " * Cabin        - object\n",
    " * Destination  - object\n",
    " * Age          - float\n",
    " * VIP          - object\n",
    " * RoomService  - float\n",
    " * FoodCourt    - float\n",
    " * ShoppingMall - float\n",
    " * Spa          - float\n",
    " * VRDeck       - float\n",
    " * Name         - Name\n",
    " * Transported  - bool \n",
    "\n",
    "**Decisions**\n",
    "* Apply preprocessing techniques to categorical features\n",
    "\n"
   ]
  },
  {
   "cell_type": "markdown",
   "id": "ad7b4949",
   "metadata": {
    "id": "Uzd1tJqRaV73",
    "papermill": {
     "duration": 0.01856,
     "end_time": "2022-09-29T21:07:27.673881",
     "exception": false,
     "start_time": "2022-09-29T21:07:27.655321",
     "status": "completed"
    },
    "tags": []
   },
   "source": [
    "### **Feature Engineering**"
   ]
  },
  {
   "cell_type": "markdown",
   "id": "63b467c8",
   "metadata": {
    "id": "ZP_9v-yyacWM",
    "papermill": {
     "duration": 0.017302,
     "end_time": "2022-09-29T21:07:27.710655",
     "exception": false,
     "start_time": "2022-09-29T21:07:27.693353",
     "status": "completed"
    },
    "tags": []
   },
   "source": [
    "Creating new features"
   ]
  },
  {
   "cell_type": "code",
   "execution_count": 7,
   "id": "4de8ad75",
   "metadata": {
    "execution": {
     "iopub.execute_input": "2022-09-29T21:07:27.751450Z",
     "iopub.status.busy": "2022-09-29T21:07:27.750344Z",
     "iopub.status.idle": "2022-09-29T21:07:27.792948Z",
     "shell.execute_reply": "2022-09-29T21:07:27.791996Z"
    },
    "id": "se506G_haY8n",
    "outputId": "dedf72f0-0da6-4d84-acf2-4895af4aa60e",
    "papermill": {
     "duration": 0.067008,
     "end_time": "2022-09-29T21:07:27.795283",
     "exception": false,
     "start_time": "2022-09-29T21:07:27.728275",
     "status": "completed"
    },
    "tags": []
   },
   "outputs": [
    {
     "data": {
      "text/html": [
       "<div>\n",
       "<style scoped>\n",
       "    .dataframe tbody tr th:only-of-type {\n",
       "        vertical-align: middle;\n",
       "    }\n",
       "\n",
       "    .dataframe tbody tr th {\n",
       "        vertical-align: top;\n",
       "    }\n",
       "\n",
       "    .dataframe thead th {\n",
       "        text-align: right;\n",
       "    }\n",
       "</style>\n",
       "<table border=\"1\" class=\"dataframe\">\n",
       "  <thead>\n",
       "    <tr style=\"text-align: right;\">\n",
       "      <th></th>\n",
       "      <th>PassengerId</th>\n",
       "      <th>HomePlanet</th>\n",
       "      <th>CryoSleep</th>\n",
       "      <th>Cabin</th>\n",
       "      <th>Destination</th>\n",
       "      <th>Age</th>\n",
       "      <th>VIP</th>\n",
       "      <th>RoomService</th>\n",
       "      <th>FoodCourt</th>\n",
       "      <th>ShoppingMall</th>\n",
       "      <th>Spa</th>\n",
       "      <th>VRDeck</th>\n",
       "      <th>Name</th>\n",
       "      <th>Transported</th>\n",
       "      <th>TotalExp</th>\n",
       "    </tr>\n",
       "  </thead>\n",
       "  <tbody>\n",
       "    <tr>\n",
       "      <th>0</th>\n",
       "      <td>0001_01</td>\n",
       "      <td>Europa</td>\n",
       "      <td>False</td>\n",
       "      <td>B/0/P</td>\n",
       "      <td>TRAPPIST-1e</td>\n",
       "      <td>39.0</td>\n",
       "      <td>False</td>\n",
       "      <td>0.0</td>\n",
       "      <td>0.0</td>\n",
       "      <td>0.0</td>\n",
       "      <td>0.0</td>\n",
       "      <td>0.0</td>\n",
       "      <td>Maham Ofracculy</td>\n",
       "      <td>False</td>\n",
       "      <td>0.0</td>\n",
       "    </tr>\n",
       "    <tr>\n",
       "      <th>1</th>\n",
       "      <td>0002_01</td>\n",
       "      <td>Earth</td>\n",
       "      <td>False</td>\n",
       "      <td>F/0/S</td>\n",
       "      <td>TRAPPIST-1e</td>\n",
       "      <td>24.0</td>\n",
       "      <td>False</td>\n",
       "      <td>109.0</td>\n",
       "      <td>9.0</td>\n",
       "      <td>25.0</td>\n",
       "      <td>549.0</td>\n",
       "      <td>44.0</td>\n",
       "      <td>Juanna Vines</td>\n",
       "      <td>True</td>\n",
       "      <td>736.0</td>\n",
       "    </tr>\n",
       "    <tr>\n",
       "      <th>2</th>\n",
       "      <td>0003_01</td>\n",
       "      <td>Europa</td>\n",
       "      <td>False</td>\n",
       "      <td>A/0/S</td>\n",
       "      <td>TRAPPIST-1e</td>\n",
       "      <td>58.0</td>\n",
       "      <td>True</td>\n",
       "      <td>43.0</td>\n",
       "      <td>3576.0</td>\n",
       "      <td>0.0</td>\n",
       "      <td>6715.0</td>\n",
       "      <td>49.0</td>\n",
       "      <td>Altark Susent</td>\n",
       "      <td>False</td>\n",
       "      <td>10383.0</td>\n",
       "    </tr>\n",
       "    <tr>\n",
       "      <th>3</th>\n",
       "      <td>0003_02</td>\n",
       "      <td>Europa</td>\n",
       "      <td>False</td>\n",
       "      <td>A/0/S</td>\n",
       "      <td>TRAPPIST-1e</td>\n",
       "      <td>33.0</td>\n",
       "      <td>False</td>\n",
       "      <td>0.0</td>\n",
       "      <td>1283.0</td>\n",
       "      <td>371.0</td>\n",
       "      <td>3329.0</td>\n",
       "      <td>193.0</td>\n",
       "      <td>Solam Susent</td>\n",
       "      <td>False</td>\n",
       "      <td>5176.0</td>\n",
       "    </tr>\n",
       "    <tr>\n",
       "      <th>4</th>\n",
       "      <td>0004_01</td>\n",
       "      <td>Earth</td>\n",
       "      <td>False</td>\n",
       "      <td>F/1/S</td>\n",
       "      <td>TRAPPIST-1e</td>\n",
       "      <td>16.0</td>\n",
       "      <td>False</td>\n",
       "      <td>303.0</td>\n",
       "      <td>70.0</td>\n",
       "      <td>151.0</td>\n",
       "      <td>565.0</td>\n",
       "      <td>2.0</td>\n",
       "      <td>Willy Santantines</td>\n",
       "      <td>True</td>\n",
       "      <td>1091.0</td>\n",
       "    </tr>\n",
       "  </tbody>\n",
       "</table>\n",
       "</div>"
      ],
      "text/plain": [
       "  PassengerId HomePlanet CryoSleep  Cabin  Destination   Age    VIP  \\\n",
       "0     0001_01     Europa     False  B/0/P  TRAPPIST-1e  39.0  False   \n",
       "1     0002_01      Earth     False  F/0/S  TRAPPIST-1e  24.0  False   \n",
       "2     0003_01     Europa     False  A/0/S  TRAPPIST-1e  58.0   True   \n",
       "3     0003_02     Europa     False  A/0/S  TRAPPIST-1e  33.0  False   \n",
       "4     0004_01      Earth     False  F/1/S  TRAPPIST-1e  16.0  False   \n",
       "\n",
       "   RoomService  FoodCourt  ShoppingMall     Spa  VRDeck               Name  \\\n",
       "0          0.0        0.0           0.0     0.0     0.0    Maham Ofracculy   \n",
       "1        109.0        9.0          25.0   549.0    44.0       Juanna Vines   \n",
       "2         43.0     3576.0           0.0  6715.0    49.0      Altark Susent   \n",
       "3          0.0     1283.0         371.0  3329.0   193.0       Solam Susent   \n",
       "4        303.0       70.0         151.0   565.0     2.0  Willy Santantines   \n",
       "\n",
       "   Transported  TotalExp  \n",
       "0        False       0.0  \n",
       "1         True     736.0  \n",
       "2        False   10383.0  \n",
       "3        False    5176.0  \n",
       "4         True    1091.0  "
      ]
     },
     "execution_count": 7,
     "metadata": {},
     "output_type": "execute_result"
    }
   ],
   "source": [
    "# Create total expenses of each passenger [RoomService + FoodCourt + ShoppingMall + Spa + VRDeck]\n",
    "train_['TotalExp'] = train_['RoomService'] + train_['FoodCourt'] + train_['ShoppingMall'] + train_['Spa'] + train_['VRDeck']\n",
    "test_['TotalExp'] = test_['RoomService'] + test_['FoodCourt'] + test_['ShoppingMall'] + test_['Spa'] + test_['VRDeck']\n",
    "train_.head()\n",
    "# test_.head()"
   ]
  },
  {
   "cell_type": "code",
   "execution_count": 8,
   "id": "bd0856d3",
   "metadata": {
    "execution": {
     "iopub.execute_input": "2022-09-29T21:07:27.833784Z",
     "iopub.status.busy": "2022-09-29T21:07:27.833012Z",
     "iopub.status.idle": "2022-09-29T21:07:27.888510Z",
     "shell.execute_reply": "2022-09-29T21:07:27.887369Z"
    },
    "id": "xPt9_dijbDOu",
    "outputId": "1e3face9-6b5b-4e41-ca15-9dce6b550dac",
    "papermill": {
     "duration": 0.077784,
     "end_time": "2022-09-29T21:07:27.891031",
     "exception": false,
     "start_time": "2022-09-29T21:07:27.813247",
     "status": "completed"
    },
    "tags": []
   },
   "outputs": [
    {
     "data": {
      "text/html": [
       "<div>\n",
       "<style scoped>\n",
       "    .dataframe tbody tr th:only-of-type {\n",
       "        vertical-align: middle;\n",
       "    }\n",
       "\n",
       "    .dataframe tbody tr th {\n",
       "        vertical-align: top;\n",
       "    }\n",
       "\n",
       "    .dataframe thead th {\n",
       "        text-align: right;\n",
       "    }\n",
       "</style>\n",
       "<table border=\"1\" class=\"dataframe\">\n",
       "  <thead>\n",
       "    <tr style=\"text-align: right;\">\n",
       "      <th></th>\n",
       "      <th>PassengerId</th>\n",
       "      <th>HomePlanet</th>\n",
       "      <th>CryoSleep</th>\n",
       "      <th>Cabin</th>\n",
       "      <th>Destination</th>\n",
       "      <th>Age</th>\n",
       "      <th>VIP</th>\n",
       "      <th>RoomService</th>\n",
       "      <th>FoodCourt</th>\n",
       "      <th>ShoppingMall</th>\n",
       "      <th>Spa</th>\n",
       "      <th>VRDeck</th>\n",
       "      <th>Name</th>\n",
       "      <th>Transported</th>\n",
       "      <th>TotalExp</th>\n",
       "      <th>CabinDeck</th>\n",
       "      <th>CabinNum</th>\n",
       "      <th>CabinSide</th>\n",
       "    </tr>\n",
       "  </thead>\n",
       "  <tbody>\n",
       "    <tr>\n",
       "      <th>0</th>\n",
       "      <td>0001_01</td>\n",
       "      <td>Europa</td>\n",
       "      <td>False</td>\n",
       "      <td>B/0/P</td>\n",
       "      <td>TRAPPIST-1e</td>\n",
       "      <td>39.0</td>\n",
       "      <td>False</td>\n",
       "      <td>0.0</td>\n",
       "      <td>0.0</td>\n",
       "      <td>0.0</td>\n",
       "      <td>0.0</td>\n",
       "      <td>0.0</td>\n",
       "      <td>Maham Ofracculy</td>\n",
       "      <td>False</td>\n",
       "      <td>0.0</td>\n",
       "      <td>B</td>\n",
       "      <td>0</td>\n",
       "      <td>P</td>\n",
       "    </tr>\n",
       "    <tr>\n",
       "      <th>1</th>\n",
       "      <td>0002_01</td>\n",
       "      <td>Earth</td>\n",
       "      <td>False</td>\n",
       "      <td>F/0/S</td>\n",
       "      <td>TRAPPIST-1e</td>\n",
       "      <td>24.0</td>\n",
       "      <td>False</td>\n",
       "      <td>109.0</td>\n",
       "      <td>9.0</td>\n",
       "      <td>25.0</td>\n",
       "      <td>549.0</td>\n",
       "      <td>44.0</td>\n",
       "      <td>Juanna Vines</td>\n",
       "      <td>True</td>\n",
       "      <td>736.0</td>\n",
       "      <td>F</td>\n",
       "      <td>0</td>\n",
       "      <td>S</td>\n",
       "    </tr>\n",
       "    <tr>\n",
       "      <th>2</th>\n",
       "      <td>0003_01</td>\n",
       "      <td>Europa</td>\n",
       "      <td>False</td>\n",
       "      <td>A/0/S</td>\n",
       "      <td>TRAPPIST-1e</td>\n",
       "      <td>58.0</td>\n",
       "      <td>True</td>\n",
       "      <td>43.0</td>\n",
       "      <td>3576.0</td>\n",
       "      <td>0.0</td>\n",
       "      <td>6715.0</td>\n",
       "      <td>49.0</td>\n",
       "      <td>Altark Susent</td>\n",
       "      <td>False</td>\n",
       "      <td>10383.0</td>\n",
       "      <td>A</td>\n",
       "      <td>0</td>\n",
       "      <td>S</td>\n",
       "    </tr>\n",
       "    <tr>\n",
       "      <th>3</th>\n",
       "      <td>0003_02</td>\n",
       "      <td>Europa</td>\n",
       "      <td>False</td>\n",
       "      <td>A/0/S</td>\n",
       "      <td>TRAPPIST-1e</td>\n",
       "      <td>33.0</td>\n",
       "      <td>False</td>\n",
       "      <td>0.0</td>\n",
       "      <td>1283.0</td>\n",
       "      <td>371.0</td>\n",
       "      <td>3329.0</td>\n",
       "      <td>193.0</td>\n",
       "      <td>Solam Susent</td>\n",
       "      <td>False</td>\n",
       "      <td>5176.0</td>\n",
       "      <td>A</td>\n",
       "      <td>0</td>\n",
       "      <td>S</td>\n",
       "    </tr>\n",
       "    <tr>\n",
       "      <th>4</th>\n",
       "      <td>0004_01</td>\n",
       "      <td>Earth</td>\n",
       "      <td>False</td>\n",
       "      <td>F/1/S</td>\n",
       "      <td>TRAPPIST-1e</td>\n",
       "      <td>16.0</td>\n",
       "      <td>False</td>\n",
       "      <td>303.0</td>\n",
       "      <td>70.0</td>\n",
       "      <td>151.0</td>\n",
       "      <td>565.0</td>\n",
       "      <td>2.0</td>\n",
       "      <td>Willy Santantines</td>\n",
       "      <td>True</td>\n",
       "      <td>1091.0</td>\n",
       "      <td>F</td>\n",
       "      <td>1</td>\n",
       "      <td>S</td>\n",
       "    </tr>\n",
       "  </tbody>\n",
       "</table>\n",
       "</div>"
      ],
      "text/plain": [
       "  PassengerId HomePlanet CryoSleep  Cabin  Destination   Age    VIP  \\\n",
       "0     0001_01     Europa     False  B/0/P  TRAPPIST-1e  39.0  False   \n",
       "1     0002_01      Earth     False  F/0/S  TRAPPIST-1e  24.0  False   \n",
       "2     0003_01     Europa     False  A/0/S  TRAPPIST-1e  58.0   True   \n",
       "3     0003_02     Europa     False  A/0/S  TRAPPIST-1e  33.0  False   \n",
       "4     0004_01      Earth     False  F/1/S  TRAPPIST-1e  16.0  False   \n",
       "\n",
       "   RoomService  FoodCourt  ShoppingMall     Spa  VRDeck               Name  \\\n",
       "0          0.0        0.0           0.0     0.0     0.0    Maham Ofracculy   \n",
       "1        109.0        9.0          25.0   549.0    44.0       Juanna Vines   \n",
       "2         43.0     3576.0           0.0  6715.0    49.0      Altark Susent   \n",
       "3          0.0     1283.0         371.0  3329.0   193.0       Solam Susent   \n",
       "4        303.0       70.0         151.0   565.0     2.0  Willy Santantines   \n",
       "\n",
       "   Transported  TotalExp CabinDeck CabinNum CabinSide  \n",
       "0        False       0.0         B        0         P  \n",
       "1         True     736.0         F        0         S  \n",
       "2        False   10383.0         A        0         S  \n",
       "3        False    5176.0         A        0         S  \n",
       "4         True    1091.0         F        1         S  "
      ]
     },
     "execution_count": 8,
     "metadata": {},
     "output_type": "execute_result"
    }
   ],
   "source": [
    "# Split Cabin by '/' and store it to the features CabinDeck, CabinNum, and CabinSide\n",
    "train_[['CabinDeck', 'CabinNum', 'CabinSide']] = train_['Cabin'].str.split('/', expand = True)\n",
    "test_[['CabinDeck', 'CabinNum', 'CabinSide']] = test_['Cabin'].str.split('/', expand = True)\n",
    "train_.head()\n",
    "# test_.head()"
   ]
  },
  {
   "cell_type": "code",
   "execution_count": 9,
   "id": "019eb9d1",
   "metadata": {
    "execution": {
     "iopub.execute_input": "2022-09-29T21:07:27.929806Z",
     "iopub.status.busy": "2022-09-29T21:07:27.929283Z",
     "iopub.status.idle": "2022-09-29T21:07:27.990182Z",
     "shell.execute_reply": "2022-09-29T21:07:27.989041Z"
    },
    "id": "w7xdgAu4cpSS",
    "outputId": "90a19810-a99f-41e6-bfb6-4e1b158bb4fd",
    "papermill": {
     "duration": 0.083764,
     "end_time": "2022-09-29T21:07:27.992883",
     "exception": false,
     "start_time": "2022-09-29T21:07:27.909119",
     "status": "completed"
    },
    "tags": []
   },
   "outputs": [
    {
     "data": {
      "text/html": [
       "<div>\n",
       "<style scoped>\n",
       "    .dataframe tbody tr th:only-of-type {\n",
       "        vertical-align: middle;\n",
       "    }\n",
       "\n",
       "    .dataframe tbody tr th {\n",
       "        vertical-align: top;\n",
       "    }\n",
       "\n",
       "    .dataframe thead th {\n",
       "        text-align: right;\n",
       "    }\n",
       "</style>\n",
       "<table border=\"1\" class=\"dataframe\">\n",
       "  <thead>\n",
       "    <tr style=\"text-align: right;\">\n",
       "      <th></th>\n",
       "      <th>PassengerId</th>\n",
       "      <th>HomePlanet</th>\n",
       "      <th>CryoSleep</th>\n",
       "      <th>Cabin</th>\n",
       "      <th>Destination</th>\n",
       "      <th>Age</th>\n",
       "      <th>VIP</th>\n",
       "      <th>RoomService</th>\n",
       "      <th>FoodCourt</th>\n",
       "      <th>ShoppingMall</th>\n",
       "      <th>Spa</th>\n",
       "      <th>VRDeck</th>\n",
       "      <th>Name</th>\n",
       "      <th>Transported</th>\n",
       "      <th>TotalExp</th>\n",
       "      <th>CabinDeck</th>\n",
       "      <th>CabinNum</th>\n",
       "      <th>CabinSide</th>\n",
       "      <th>PassengerGrp</th>\n",
       "      <th>PassengerNum</th>\n",
       "    </tr>\n",
       "  </thead>\n",
       "  <tbody>\n",
       "    <tr>\n",
       "      <th>0</th>\n",
       "      <td>0001_01</td>\n",
       "      <td>Europa</td>\n",
       "      <td>False</td>\n",
       "      <td>B/0/P</td>\n",
       "      <td>TRAPPIST-1e</td>\n",
       "      <td>39.0</td>\n",
       "      <td>False</td>\n",
       "      <td>0.0</td>\n",
       "      <td>0.0</td>\n",
       "      <td>0.0</td>\n",
       "      <td>0.0</td>\n",
       "      <td>0.0</td>\n",
       "      <td>Maham Ofracculy</td>\n",
       "      <td>False</td>\n",
       "      <td>0.0</td>\n",
       "      <td>B</td>\n",
       "      <td>0</td>\n",
       "      <td>P</td>\n",
       "      <td>1</td>\n",
       "      <td>1</td>\n",
       "    </tr>\n",
       "    <tr>\n",
       "      <th>1</th>\n",
       "      <td>0002_01</td>\n",
       "      <td>Earth</td>\n",
       "      <td>False</td>\n",
       "      <td>F/0/S</td>\n",
       "      <td>TRAPPIST-1e</td>\n",
       "      <td>24.0</td>\n",
       "      <td>False</td>\n",
       "      <td>109.0</td>\n",
       "      <td>9.0</td>\n",
       "      <td>25.0</td>\n",
       "      <td>549.0</td>\n",
       "      <td>44.0</td>\n",
       "      <td>Juanna Vines</td>\n",
       "      <td>True</td>\n",
       "      <td>736.0</td>\n",
       "      <td>F</td>\n",
       "      <td>0</td>\n",
       "      <td>S</td>\n",
       "      <td>2</td>\n",
       "      <td>1</td>\n",
       "    </tr>\n",
       "    <tr>\n",
       "      <th>2</th>\n",
       "      <td>0003_01</td>\n",
       "      <td>Europa</td>\n",
       "      <td>False</td>\n",
       "      <td>A/0/S</td>\n",
       "      <td>TRAPPIST-1e</td>\n",
       "      <td>58.0</td>\n",
       "      <td>True</td>\n",
       "      <td>43.0</td>\n",
       "      <td>3576.0</td>\n",
       "      <td>0.0</td>\n",
       "      <td>6715.0</td>\n",
       "      <td>49.0</td>\n",
       "      <td>Altark Susent</td>\n",
       "      <td>False</td>\n",
       "      <td>10383.0</td>\n",
       "      <td>A</td>\n",
       "      <td>0</td>\n",
       "      <td>S</td>\n",
       "      <td>3</td>\n",
       "      <td>1</td>\n",
       "    </tr>\n",
       "    <tr>\n",
       "      <th>3</th>\n",
       "      <td>0003_02</td>\n",
       "      <td>Europa</td>\n",
       "      <td>False</td>\n",
       "      <td>A/0/S</td>\n",
       "      <td>TRAPPIST-1e</td>\n",
       "      <td>33.0</td>\n",
       "      <td>False</td>\n",
       "      <td>0.0</td>\n",
       "      <td>1283.0</td>\n",
       "      <td>371.0</td>\n",
       "      <td>3329.0</td>\n",
       "      <td>193.0</td>\n",
       "      <td>Solam Susent</td>\n",
       "      <td>False</td>\n",
       "      <td>5176.0</td>\n",
       "      <td>A</td>\n",
       "      <td>0</td>\n",
       "      <td>S</td>\n",
       "      <td>3</td>\n",
       "      <td>2</td>\n",
       "    </tr>\n",
       "    <tr>\n",
       "      <th>4</th>\n",
       "      <td>0004_01</td>\n",
       "      <td>Earth</td>\n",
       "      <td>False</td>\n",
       "      <td>F/1/S</td>\n",
       "      <td>TRAPPIST-1e</td>\n",
       "      <td>16.0</td>\n",
       "      <td>False</td>\n",
       "      <td>303.0</td>\n",
       "      <td>70.0</td>\n",
       "      <td>151.0</td>\n",
       "      <td>565.0</td>\n",
       "      <td>2.0</td>\n",
       "      <td>Willy Santantines</td>\n",
       "      <td>True</td>\n",
       "      <td>1091.0</td>\n",
       "      <td>F</td>\n",
       "      <td>1</td>\n",
       "      <td>S</td>\n",
       "      <td>4</td>\n",
       "      <td>1</td>\n",
       "    </tr>\n",
       "  </tbody>\n",
       "</table>\n",
       "</div>"
      ],
      "text/plain": [
       "  PassengerId HomePlanet CryoSleep  Cabin  Destination   Age    VIP  \\\n",
       "0     0001_01     Europa     False  B/0/P  TRAPPIST-1e  39.0  False   \n",
       "1     0002_01      Earth     False  F/0/S  TRAPPIST-1e  24.0  False   \n",
       "2     0003_01     Europa     False  A/0/S  TRAPPIST-1e  58.0   True   \n",
       "3     0003_02     Europa     False  A/0/S  TRAPPIST-1e  33.0  False   \n",
       "4     0004_01      Earth     False  F/1/S  TRAPPIST-1e  16.0  False   \n",
       "\n",
       "   RoomService  FoodCourt  ShoppingMall     Spa  VRDeck               Name  \\\n",
       "0          0.0        0.0           0.0     0.0     0.0    Maham Ofracculy   \n",
       "1        109.0        9.0          25.0   549.0    44.0       Juanna Vines   \n",
       "2         43.0     3576.0           0.0  6715.0    49.0      Altark Susent   \n",
       "3          0.0     1283.0         371.0  3329.0   193.0       Solam Susent   \n",
       "4        303.0       70.0         151.0   565.0     2.0  Willy Santantines   \n",
       "\n",
       "   Transported  TotalExp CabinDeck CabinNum CabinSide  PassengerGrp  \\\n",
       "0        False       0.0         B        0         P             1   \n",
       "1         True     736.0         F        0         S             2   \n",
       "2        False   10383.0         A        0         S             3   \n",
       "3        False    5176.0         A        0         S             3   \n",
       "4         True    1091.0         F        1         S             4   \n",
       "\n",
       "   PassengerNum  \n",
       "0             1  \n",
       "1             1  \n",
       "2             1  \n",
       "3             2  \n",
       "4             1  "
      ]
     },
     "execution_count": 9,
     "metadata": {},
     "output_type": "execute_result"
    }
   ],
   "source": [
    "# Split PassengerId by PassengerGrp, and PassengerNum\n",
    "train_[['PassengerGrp', 'PassengerNum']] = train_['PassengerId'].str.split('_', expand = True).astype(int)\n",
    "test_[['PassengerGrp', 'PassengerNum']] = test_['PassengerId'].str.split('_', expand = True).astype(int)\n",
    "train_.head()\n",
    "# test_.head()"
   ]
  },
  {
   "cell_type": "markdown",
   "id": "564e1d38",
   "metadata": {
    "id": "ux8NbfW3p6lA",
    "papermill": {
     "duration": 0.018833,
     "end_time": "2022-09-29T21:07:28.031236",
     "exception": false,
     "start_time": "2022-09-29T21:07:28.012403",
     "status": "completed"
    },
    "tags": []
   },
   "source": [
    "Display number of unique values each column"
   ]
  },
  {
   "cell_type": "code",
   "execution_count": 10,
   "id": "c68f7e4c",
   "metadata": {
    "execution": {
     "iopub.execute_input": "2022-09-29T21:07:28.070758Z",
     "iopub.status.busy": "2022-09-29T21:07:28.069547Z",
     "iopub.status.idle": "2022-09-29T21:07:28.096902Z",
     "shell.execute_reply": "2022-09-29T21:07:28.095449Z"
    },
    "id": "fzrLPGDSp6KQ",
    "outputId": "ad5ab3b3-ea8a-406b-b582-9b68f0ad91fb",
    "papermill": {
     "duration": 0.049984,
     "end_time": "2022-09-29T21:07:28.099904",
     "exception": false,
     "start_time": "2022-09-29T21:07:28.049920",
     "status": "completed"
    },
    "tags": []
   },
   "outputs": [
    {
     "name": "stdout",
     "output_type": "stream",
     "text": [
      "PassengerId ---------> 8693\n",
      "HomePlanet ---------> 3\n",
      "CryoSleep ---------> 2\n",
      "Cabin ---------> 6560\n",
      "Destination ---------> 3\n",
      "Age ---------> 80\n",
      "VIP ---------> 2\n",
      "RoomService ---------> 1273\n",
      "FoodCourt ---------> 1507\n",
      "ShoppingMall ---------> 1115\n",
      "Spa ---------> 1327\n",
      "VRDeck ---------> 1306\n",
      "Name ---------> 8473\n",
      "Transported ---------> 2\n",
      "TotalExp ---------> 2116\n",
      "CabinDeck ---------> 8\n",
      "CabinNum ---------> 1817\n",
      "CabinSide ---------> 2\n",
      "PassengerGrp ---------> 6217\n",
      "PassengerNum ---------> 8\n"
     ]
    }
   ],
   "source": [
    "for col in train_.columns:\n",
    "    print(f'{col} ---------> {train_[col].nunique()}')"
   ]
  },
  {
   "cell_type": "code",
   "execution_count": 11,
   "id": "0e2abd96",
   "metadata": {
    "execution": {
     "iopub.execute_input": "2022-09-29T21:07:28.140330Z",
     "iopub.status.busy": "2022-09-29T21:07:28.139099Z",
     "iopub.status.idle": "2022-09-29T21:07:28.154176Z",
     "shell.execute_reply": "2022-09-29T21:07:28.152872Z"
    },
    "papermill": {
     "duration": 0.038114,
     "end_time": "2022-09-29T21:07:28.156914",
     "exception": false,
     "start_time": "2022-09-29T21:07:28.118800",
     "status": "completed"
    },
    "tags": []
   },
   "outputs": [
    {
     "name": "stdout",
     "output_type": "stream",
     "text": [
      "PassengerId ---------> 4277\n",
      "HomePlanet ---------> 3\n",
      "CryoSleep ---------> 2\n",
      "Cabin ---------> 3265\n",
      "Destination ---------> 3\n",
      "Age ---------> 79\n",
      "VIP ---------> 2\n",
      "RoomService ---------> 842\n",
      "FoodCourt ---------> 902\n",
      "ShoppingMall ---------> 715\n",
      "Spa ---------> 833\n",
      "VRDeck ---------> 796\n",
      "Name ---------> 4176\n",
      "TotalExp ---------> 1276\n",
      "CabinDeck ---------> 8\n",
      "CabinNum ---------> 1505\n",
      "CabinSide ---------> 2\n",
      "PassengerGrp ---------> 3063\n",
      "PassengerNum ---------> 8\n"
     ]
    }
   ],
   "source": [
    "for col in test_.columns:\n",
    "    print(f'{col} ---------> {test_[col].nunique()}')"
   ]
  },
  {
   "cell_type": "code",
   "execution_count": 12,
   "id": "17121e57",
   "metadata": {
    "execution": {
     "iopub.execute_input": "2022-09-29T21:07:28.200294Z",
     "iopub.status.busy": "2022-09-29T21:07:28.199379Z",
     "iopub.status.idle": "2022-09-29T21:07:28.227467Z",
     "shell.execute_reply": "2022-09-29T21:07:28.226258Z"
    },
    "id": "Gjym_daSxZOV",
    "outputId": "9867e8dc-9112-4553-b19f-3acd72ddf28b",
    "papermill": {
     "duration": 0.05201,
     "end_time": "2022-09-29T21:07:28.229871",
     "exception": false,
     "start_time": "2022-09-29T21:07:28.177861",
     "status": "completed"
    },
    "tags": []
   },
   "outputs": [
    {
     "data": {
      "text/html": [
       "<div>\n",
       "<style scoped>\n",
       "    .dataframe tbody tr th:only-of-type {\n",
       "        vertical-align: middle;\n",
       "    }\n",
       "\n",
       "    .dataframe tbody tr th {\n",
       "        vertical-align: top;\n",
       "    }\n",
       "\n",
       "    .dataframe thead th {\n",
       "        text-align: right;\n",
       "    }\n",
       "</style>\n",
       "<table border=\"1\" class=\"dataframe\">\n",
       "  <thead>\n",
       "    <tr style=\"text-align: right;\">\n",
       "      <th></th>\n",
       "      <th>Age</th>\n",
       "      <th>RoomService</th>\n",
       "      <th>FoodCourt</th>\n",
       "      <th>ShoppingMall</th>\n",
       "      <th>Spa</th>\n",
       "      <th>VRDeck</th>\n",
       "      <th>TotalExp</th>\n",
       "      <th>PassengerGrp</th>\n",
       "      <th>PassengerNum</th>\n",
       "    </tr>\n",
       "  </thead>\n",
       "  <tbody>\n",
       "    <tr>\n",
       "      <th>0</th>\n",
       "      <td>39.0</td>\n",
       "      <td>0.0</td>\n",
       "      <td>0.0</td>\n",
       "      <td>0.0</td>\n",
       "      <td>0.0</td>\n",
       "      <td>0.0</td>\n",
       "      <td>0.0</td>\n",
       "      <td>1</td>\n",
       "      <td>1</td>\n",
       "    </tr>\n",
       "    <tr>\n",
       "      <th>1</th>\n",
       "      <td>24.0</td>\n",
       "      <td>109.0</td>\n",
       "      <td>9.0</td>\n",
       "      <td>25.0</td>\n",
       "      <td>549.0</td>\n",
       "      <td>44.0</td>\n",
       "      <td>736.0</td>\n",
       "      <td>2</td>\n",
       "      <td>1</td>\n",
       "    </tr>\n",
       "    <tr>\n",
       "      <th>2</th>\n",
       "      <td>58.0</td>\n",
       "      <td>43.0</td>\n",
       "      <td>3576.0</td>\n",
       "      <td>0.0</td>\n",
       "      <td>6715.0</td>\n",
       "      <td>49.0</td>\n",
       "      <td>10383.0</td>\n",
       "      <td>3</td>\n",
       "      <td>1</td>\n",
       "    </tr>\n",
       "    <tr>\n",
       "      <th>3</th>\n",
       "      <td>33.0</td>\n",
       "      <td>0.0</td>\n",
       "      <td>1283.0</td>\n",
       "      <td>371.0</td>\n",
       "      <td>3329.0</td>\n",
       "      <td>193.0</td>\n",
       "      <td>5176.0</td>\n",
       "      <td>3</td>\n",
       "      <td>2</td>\n",
       "    </tr>\n",
       "    <tr>\n",
       "      <th>4</th>\n",
       "      <td>16.0</td>\n",
       "      <td>303.0</td>\n",
       "      <td>70.0</td>\n",
       "      <td>151.0</td>\n",
       "      <td>565.0</td>\n",
       "      <td>2.0</td>\n",
       "      <td>1091.0</td>\n",
       "      <td>4</td>\n",
       "      <td>1</td>\n",
       "    </tr>\n",
       "  </tbody>\n",
       "</table>\n",
       "</div>"
      ],
      "text/plain": [
       "    Age  RoomService  FoodCourt  ShoppingMall     Spa  VRDeck  TotalExp  \\\n",
       "0  39.0          0.0        0.0           0.0     0.0     0.0       0.0   \n",
       "1  24.0        109.0        9.0          25.0   549.0    44.0     736.0   \n",
       "2  58.0         43.0     3576.0           0.0  6715.0    49.0   10383.0   \n",
       "3  33.0          0.0     1283.0         371.0  3329.0   193.0    5176.0   \n",
       "4  16.0        303.0       70.0         151.0   565.0     2.0    1091.0   \n",
       "\n",
       "   PassengerGrp  PassengerNum  \n",
       "0             1             1  \n",
       "1             2             1  \n",
       "2             3             1  \n",
       "3             3             2  \n",
       "4             4             1  "
      ]
     },
     "execution_count": 12,
     "metadata": {},
     "output_type": "execute_result"
    }
   ],
   "source": [
    "# Extracting numerical features\n",
    "num_features = train_.select_dtypes(exclude = ['object', 'bool']).columns.tolist()\n",
    "train_[num_features].head()\n",
    "# test_[num_features].head()"
   ]
  },
  {
   "cell_type": "code",
   "execution_count": 13,
   "id": "483c3f27",
   "metadata": {
    "execution": {
     "iopub.execute_input": "2022-09-29T21:07:28.271175Z",
     "iopub.status.busy": "2022-09-29T21:07:28.270034Z",
     "iopub.status.idle": "2022-09-29T21:07:28.292958Z",
     "shell.execute_reply": "2022-09-29T21:07:28.291716Z"
    },
    "id": "5mvRoZERxydp",
    "outputId": "aabeedc0-6750-4140-8ba8-2175ed7b7e80",
    "papermill": {
     "duration": 0.046946,
     "end_time": "2022-09-29T21:07:28.295748",
     "exception": false,
     "start_time": "2022-09-29T21:07:28.248802",
     "status": "completed"
    },
    "tags": []
   },
   "outputs": [
    {
     "data": {
      "text/html": [
       "<div>\n",
       "<style scoped>\n",
       "    .dataframe tbody tr th:only-of-type {\n",
       "        vertical-align: middle;\n",
       "    }\n",
       "\n",
       "    .dataframe tbody tr th {\n",
       "        vertical-align: top;\n",
       "    }\n",
       "\n",
       "    .dataframe thead th {\n",
       "        text-align: right;\n",
       "    }\n",
       "</style>\n",
       "<table border=\"1\" class=\"dataframe\">\n",
       "  <thead>\n",
       "    <tr style=\"text-align: right;\">\n",
       "      <th></th>\n",
       "      <th>PassengerId</th>\n",
       "      <th>HomePlanet</th>\n",
       "      <th>CryoSleep</th>\n",
       "      <th>Cabin</th>\n",
       "      <th>Destination</th>\n",
       "      <th>VIP</th>\n",
       "      <th>Name</th>\n",
       "      <th>CabinDeck</th>\n",
       "      <th>CabinNum</th>\n",
       "      <th>CabinSide</th>\n",
       "    </tr>\n",
       "  </thead>\n",
       "  <tbody>\n",
       "    <tr>\n",
       "      <th>0</th>\n",
       "      <td>0001_01</td>\n",
       "      <td>Europa</td>\n",
       "      <td>False</td>\n",
       "      <td>B/0/P</td>\n",
       "      <td>TRAPPIST-1e</td>\n",
       "      <td>False</td>\n",
       "      <td>Maham Ofracculy</td>\n",
       "      <td>B</td>\n",
       "      <td>0</td>\n",
       "      <td>P</td>\n",
       "    </tr>\n",
       "    <tr>\n",
       "      <th>1</th>\n",
       "      <td>0002_01</td>\n",
       "      <td>Earth</td>\n",
       "      <td>False</td>\n",
       "      <td>F/0/S</td>\n",
       "      <td>TRAPPIST-1e</td>\n",
       "      <td>False</td>\n",
       "      <td>Juanna Vines</td>\n",
       "      <td>F</td>\n",
       "      <td>0</td>\n",
       "      <td>S</td>\n",
       "    </tr>\n",
       "    <tr>\n",
       "      <th>2</th>\n",
       "      <td>0003_01</td>\n",
       "      <td>Europa</td>\n",
       "      <td>False</td>\n",
       "      <td>A/0/S</td>\n",
       "      <td>TRAPPIST-1e</td>\n",
       "      <td>True</td>\n",
       "      <td>Altark Susent</td>\n",
       "      <td>A</td>\n",
       "      <td>0</td>\n",
       "      <td>S</td>\n",
       "    </tr>\n",
       "    <tr>\n",
       "      <th>3</th>\n",
       "      <td>0003_02</td>\n",
       "      <td>Europa</td>\n",
       "      <td>False</td>\n",
       "      <td>A/0/S</td>\n",
       "      <td>TRAPPIST-1e</td>\n",
       "      <td>False</td>\n",
       "      <td>Solam Susent</td>\n",
       "      <td>A</td>\n",
       "      <td>0</td>\n",
       "      <td>S</td>\n",
       "    </tr>\n",
       "    <tr>\n",
       "      <th>4</th>\n",
       "      <td>0004_01</td>\n",
       "      <td>Earth</td>\n",
       "      <td>False</td>\n",
       "      <td>F/1/S</td>\n",
       "      <td>TRAPPIST-1e</td>\n",
       "      <td>False</td>\n",
       "      <td>Willy Santantines</td>\n",
       "      <td>F</td>\n",
       "      <td>1</td>\n",
       "      <td>S</td>\n",
       "    </tr>\n",
       "  </tbody>\n",
       "</table>\n",
       "</div>"
      ],
      "text/plain": [
       "  PassengerId HomePlanet CryoSleep  Cabin  Destination    VIP  \\\n",
       "0     0001_01     Europa     False  B/0/P  TRAPPIST-1e  False   \n",
       "1     0002_01      Earth     False  F/0/S  TRAPPIST-1e  False   \n",
       "2     0003_01     Europa     False  A/0/S  TRAPPIST-1e   True   \n",
       "3     0003_02     Europa     False  A/0/S  TRAPPIST-1e  False   \n",
       "4     0004_01      Earth     False  F/1/S  TRAPPIST-1e  False   \n",
       "\n",
       "                Name CabinDeck CabinNum CabinSide  \n",
       "0    Maham Ofracculy         B        0         P  \n",
       "1       Juanna Vines         F        0         S  \n",
       "2      Altark Susent         A        0         S  \n",
       "3       Solam Susent         A        0         S  \n",
       "4  Willy Santantines         F        1         S  "
      ]
     },
     "execution_count": 13,
     "metadata": {},
     "output_type": "execute_result"
    }
   ],
   "source": [
    "# Extracting categorical features\n",
    "cat_features = train_.select_dtypes(include = ['object']).columns.tolist()\n",
    "train_[cat_features].head()\n",
    "# test_[cat_features].head()"
   ]
  },
  {
   "cell_type": "markdown",
   "id": "3f44b422",
   "metadata": {
    "id": "-J0HmaehcZXD",
    "papermill": {
     "duration": 0.020345,
     "end_time": "2022-09-29T21:07:28.336525",
     "exception": false,
     "start_time": "2022-09-29T21:07:28.316180",
     "status": "completed"
    },
    "tags": []
   },
   "source": [
    "### **Statistics & Data Visualizations**"
   ]
  },
  {
   "cell_type": "code",
   "execution_count": 14,
   "id": "ab79692b",
   "metadata": {
    "execution": {
     "iopub.execute_input": "2022-09-29T21:07:28.380327Z",
     "iopub.status.busy": "2022-09-29T21:07:28.379891Z",
     "iopub.status.idle": "2022-09-29T21:07:28.428186Z",
     "shell.execute_reply": "2022-09-29T21:07:28.426837Z"
    },
    "id": "HZF4fSBIsaqb",
    "outputId": "cc3a86a0-e90e-4613-de0b-9e88f223dbb5",
    "papermill": {
     "duration": 0.072459,
     "end_time": "2022-09-29T21:07:28.430659",
     "exception": false,
     "start_time": "2022-09-29T21:07:28.358200",
     "status": "completed"
    },
    "tags": []
   },
   "outputs": [
    {
     "data": {
      "text/html": [
       "<div>\n",
       "<style scoped>\n",
       "    .dataframe tbody tr th:only-of-type {\n",
       "        vertical-align: middle;\n",
       "    }\n",
       "\n",
       "    .dataframe tbody tr th {\n",
       "        vertical-align: top;\n",
       "    }\n",
       "\n",
       "    .dataframe thead th {\n",
       "        text-align: right;\n",
       "    }\n",
       "</style>\n",
       "<table border=\"1\" class=\"dataframe\">\n",
       "  <thead>\n",
       "    <tr style=\"text-align: right;\">\n",
       "      <th></th>\n",
       "      <th>Age</th>\n",
       "      <th>RoomService</th>\n",
       "      <th>FoodCourt</th>\n",
       "      <th>ShoppingMall</th>\n",
       "      <th>Spa</th>\n",
       "      <th>VRDeck</th>\n",
       "      <th>TotalExp</th>\n",
       "      <th>PassengerGrp</th>\n",
       "      <th>PassengerNum</th>\n",
       "    </tr>\n",
       "  </thead>\n",
       "  <tbody>\n",
       "    <tr>\n",
       "      <th>count</th>\n",
       "      <td>8514.000000</td>\n",
       "      <td>8512.000000</td>\n",
       "      <td>8510.000000</td>\n",
       "      <td>8485.000000</td>\n",
       "      <td>8510.000000</td>\n",
       "      <td>8505.000000</td>\n",
       "      <td>7785.000000</td>\n",
       "      <td>8693.000000</td>\n",
       "      <td>8693.000000</td>\n",
       "    </tr>\n",
       "    <tr>\n",
       "      <th>mean</th>\n",
       "      <td>28.827930</td>\n",
       "      <td>224.687617</td>\n",
       "      <td>458.077203</td>\n",
       "      <td>173.729169</td>\n",
       "      <td>311.138778</td>\n",
       "      <td>304.854791</td>\n",
       "      <td>1484.601541</td>\n",
       "      <td>4633.389624</td>\n",
       "      <td>1.517773</td>\n",
       "    </tr>\n",
       "    <tr>\n",
       "      <th>std</th>\n",
       "      <td>14.489021</td>\n",
       "      <td>666.717663</td>\n",
       "      <td>1611.489240</td>\n",
       "      <td>604.696458</td>\n",
       "      <td>1136.705535</td>\n",
       "      <td>1145.717189</td>\n",
       "      <td>2845.288241</td>\n",
       "      <td>2671.028856</td>\n",
       "      <td>1.054241</td>\n",
       "    </tr>\n",
       "    <tr>\n",
       "      <th>min</th>\n",
       "      <td>0.000000</td>\n",
       "      <td>0.000000</td>\n",
       "      <td>0.000000</td>\n",
       "      <td>0.000000</td>\n",
       "      <td>0.000000</td>\n",
       "      <td>0.000000</td>\n",
       "      <td>0.000000</td>\n",
       "      <td>1.000000</td>\n",
       "      <td>1.000000</td>\n",
       "    </tr>\n",
       "    <tr>\n",
       "      <th>25%</th>\n",
       "      <td>19.000000</td>\n",
       "      <td>0.000000</td>\n",
       "      <td>0.000000</td>\n",
       "      <td>0.000000</td>\n",
       "      <td>0.000000</td>\n",
       "      <td>0.000000</td>\n",
       "      <td>0.000000</td>\n",
       "      <td>2319.000000</td>\n",
       "      <td>1.000000</td>\n",
       "    </tr>\n",
       "    <tr>\n",
       "      <th>50%</th>\n",
       "      <td>27.000000</td>\n",
       "      <td>0.000000</td>\n",
       "      <td>0.000000</td>\n",
       "      <td>0.000000</td>\n",
       "      <td>0.000000</td>\n",
       "      <td>0.000000</td>\n",
       "      <td>736.000000</td>\n",
       "      <td>4630.000000</td>\n",
       "      <td>1.000000</td>\n",
       "    </tr>\n",
       "    <tr>\n",
       "      <th>75%</th>\n",
       "      <td>38.000000</td>\n",
       "      <td>47.000000</td>\n",
       "      <td>76.000000</td>\n",
       "      <td>27.000000</td>\n",
       "      <td>59.000000</td>\n",
       "      <td>46.000000</td>\n",
       "      <td>1486.000000</td>\n",
       "      <td>6883.000000</td>\n",
       "      <td>2.000000</td>\n",
       "    </tr>\n",
       "    <tr>\n",
       "      <th>max</th>\n",
       "      <td>79.000000</td>\n",
       "      <td>14327.000000</td>\n",
       "      <td>29813.000000</td>\n",
       "      <td>23492.000000</td>\n",
       "      <td>22408.000000</td>\n",
       "      <td>24133.000000</td>\n",
       "      <td>35987.000000</td>\n",
       "      <td>9280.000000</td>\n",
       "      <td>8.000000</td>\n",
       "    </tr>\n",
       "  </tbody>\n",
       "</table>\n",
       "</div>"
      ],
      "text/plain": [
       "               Age   RoomService     FoodCourt  ShoppingMall           Spa  \\\n",
       "count  8514.000000   8512.000000   8510.000000   8485.000000   8510.000000   \n",
       "mean     28.827930    224.687617    458.077203    173.729169    311.138778   \n",
       "std      14.489021    666.717663   1611.489240    604.696458   1136.705535   \n",
       "min       0.000000      0.000000      0.000000      0.000000      0.000000   \n",
       "25%      19.000000      0.000000      0.000000      0.000000      0.000000   \n",
       "50%      27.000000      0.000000      0.000000      0.000000      0.000000   \n",
       "75%      38.000000     47.000000     76.000000     27.000000     59.000000   \n",
       "max      79.000000  14327.000000  29813.000000  23492.000000  22408.000000   \n",
       "\n",
       "             VRDeck      TotalExp  PassengerGrp  PassengerNum  \n",
       "count   8505.000000   7785.000000   8693.000000   8693.000000  \n",
       "mean     304.854791   1484.601541   4633.389624      1.517773  \n",
       "std     1145.717189   2845.288241   2671.028856      1.054241  \n",
       "min        0.000000      0.000000      1.000000      1.000000  \n",
       "25%        0.000000      0.000000   2319.000000      1.000000  \n",
       "50%        0.000000    736.000000   4630.000000      1.000000  \n",
       "75%       46.000000   1486.000000   6883.000000      2.000000  \n",
       "max    24133.000000  35987.000000   9280.000000      8.000000  "
      ]
     },
     "execution_count": 14,
     "metadata": {},
     "output_type": "execute_result"
    }
   ],
   "source": [
    "train_.describe()"
   ]
  },
  {
   "cell_type": "code",
   "execution_count": 15,
   "id": "844de546",
   "metadata": {
    "execution": {
     "iopub.execute_input": "2022-09-29T21:07:28.473613Z",
     "iopub.status.busy": "2022-09-29T21:07:28.472497Z",
     "iopub.status.idle": "2022-09-29T21:07:28.925740Z",
     "shell.execute_reply": "2022-09-29T21:07:28.924727Z"
    },
    "id": "R-D-V3WDccSZ",
    "outputId": "2ced4cc7-7b4f-4e1c-d78b-9a387f3921cd",
    "papermill": {
     "duration": 0.477488,
     "end_time": "2022-09-29T21:07:28.928304",
     "exception": false,
     "start_time": "2022-09-29T21:07:28.450816",
     "status": "completed"
    },
    "tags": []
   },
   "outputs": [
    {
     "data": {
      "image/png": "[encoded data removed]",
      "text/plain": [
       "<Figure size 1080x720 with 2 Axes>"
      ]
     },
     "metadata": {
      "needs_background": "light"
     },
     "output_type": "display_data"
    }
   ],
   "source": [
    "transported_df = train_.copy()\n",
    "\n",
    "transported_df['Transported'] = transported_df['Transported'].map({True : 'Transported', \n",
    "                                                                   False : 'Not Transported'})\n",
    "\n",
    "feat_cat = ['HomePlanet', 'Destination']\n",
    "\n",
    "fig, axes = plt.subplots(2, 1, figsize=(15,10))\n",
    "fig.subplots_adjust(hspace=0.4)\n",
    "i = 0\n",
    "for triaxis in axes:\n",
    "    sns.countplot(data = transported_df, x = 'Transported',\n",
    "                hue = transported_df[feat_cat[i]], \n",
    "                palette = 'flare', ax = triaxis)\n",
    "  \n",
    "    i = i + 1"
   ]
  },
  {
   "cell_type": "code",
   "execution_count": 16,
   "id": "8281a428",
   "metadata": {
    "execution": {
     "iopub.execute_input": "2022-09-29T21:07:28.974252Z",
     "iopub.status.busy": "2022-09-29T21:07:28.972969Z",
     "iopub.status.idle": "2022-09-29T21:07:29.783931Z",
     "shell.execute_reply": "2022-09-29T21:07:29.782693Z"
    },
    "id": "4FTEckL15-WF",
    "outputId": "109fed6e-46f8-4a51-f9ff-60203388ffcf",
    "papermill": {
     "duration": 0.836612,
     "end_time": "2022-09-29T21:07:29.786483",
     "exception": false,
     "start_time": "2022-09-29T21:07:28.949871",
     "status": "completed"
    },
    "tags": []
   },
   "outputs": [
    {
     "data": {
      "image/png": "[encoded data removed]",
      "text/plain": [
       "<Figure size 1296x1080 with 4 Axes>"
      ]
     },
     "metadata": {
      "needs_background": "light"
     },
     "output_type": "display_data"
    }
   ],
   "source": [
    "fig, axes = plt.subplots(2, 2, figsize=(18,15))\n",
    "fig.subplots_adjust(hspace=0.4)\n",
    "feat_cat = ['HomePlanet', 'Destination', 'CabinDeck', 'CabinSide']\n",
    "i = 0\n",
    "for triaxis in axes:\n",
    "    for axis in triaxis:\n",
    "        sns.countplot(data = transported_df, x = train_[feat_cat[i]],\n",
    "                      hue = 'CryoSleep', \n",
    "                      palette = 'flare', ax = axis)\n",
    "        i = i + 1"
   ]
  },
  {
   "cell_type": "markdown",
   "id": "4bf9ff04",
   "metadata": {
    "id": "UkVzn9ADMEmy",
    "papermill": {
     "duration": 0.020425,
     "end_time": "2022-09-29T21:07:29.828632",
     "exception": false,
     "start_time": "2022-09-29T21:07:29.808207",
     "status": "completed"
    },
    "tags": []
   },
   "source": [
    "**Distribution of Numerical Features**"
   ]
  },
  {
   "cell_type": "code",
   "execution_count": 17,
   "id": "2ac05afe",
   "metadata": {
    "execution": {
     "iopub.execute_input": "2022-09-29T21:07:29.871775Z",
     "iopub.status.busy": "2022-09-29T21:07:29.871382Z",
     "iopub.status.idle": "2022-09-29T21:07:31.675405Z",
     "shell.execute_reply": "2022-09-29T21:07:31.674125Z"
    },
    "id": "mvHj4aLWLgaq",
    "outputId": "f3417022-0619-453e-8a15-f534aa925eee",
    "papermill": {
     "duration": 1.82913,
     "end_time": "2022-09-29T21:07:31.678449",
     "exception": false,
     "start_time": "2022-09-29T21:07:29.849319",
     "status": "completed"
    },
    "tags": []
   },
   "outputs": [
    {
     "data": {
      "image/png": "[encoded data removed]",
      "text/plain": [
       "<Figure size 1296x720 with 8 Axes>"
      ]
     },
     "metadata": {
      "needs_background": "light"
     },
     "output_type": "display_data"
    }
   ],
   "source": [
    "fig, axes = plt.subplots(len(train_[num_features].columns)//4, 4, figsize = (18, 10))\n",
    "i = 0\n",
    "fig.subplots_adjust(hspace=0.5,\n",
    "                    wspace = 0.5)\n",
    "for triaxis in axes:\n",
    "    for axis in triaxis:\n",
    "        sns.kdeplot(data = train_[num_features[i]], ax = axis)\n",
    "        i = i+1\n",
    "        # fig.delaxes(axes[1,3])\n"
   ]
  },
  {
   "cell_type": "code",
   "execution_count": 18,
   "id": "87884d1f",
   "metadata": {
    "execution": {
     "iopub.execute_input": "2022-09-29T21:07:31.723817Z",
     "iopub.status.busy": "2022-09-29T21:07:31.723060Z",
     "iopub.status.idle": "2022-09-29T21:07:32.572327Z",
     "shell.execute_reply": "2022-09-29T21:07:32.570966Z"
    },
    "id": "Q5Cz5yowPjep",
    "outputId": "4125eafc-a897-44cf-e7b4-e886ce82d6d4",
    "papermill": {
     "duration": 0.875447,
     "end_time": "2022-09-29T21:07:32.575372",
     "exception": false,
     "start_time": "2022-09-29T21:07:31.699925",
     "status": "completed"
    },
    "tags": []
   },
   "outputs": [
    {
     "data": {
      "image/png": "[encoded data removed]",
      "text/plain": [
       "<Figure size 1296x720 with 8 Axes>"
      ]
     },
     "metadata": {
      "needs_background": "light"
     },
     "output_type": "display_data"
    }
   ],
   "source": [
    "fig, axes = plt.subplots(len(train_[num_features].columns)//4, 4, figsize = (18, 10))\n",
    "i = 0\n",
    "fig.subplots_adjust(hspace=0.5,\n",
    "                    wspace = 0.1)\n",
    "for triaxis in axes:\n",
    "    for axis in triaxis:\n",
    "        sns.boxplot(x = train_[num_features[i]], ax = axis)\n",
    "        i = i+1"
   ]
  },
  {
   "cell_type": "markdown",
   "id": "dfdb2141",
   "metadata": {
    "id": "1kq1P7n88jD6",
    "papermill": {
     "duration": 0.021807,
     "end_time": "2022-09-29T21:07:32.619894",
     "exception": false,
     "start_time": "2022-09-29T21:07:32.598087",
     "status": "completed"
    },
    "tags": []
   },
   "source": [
    "Correlation between Categorical and Numerical features"
   ]
  },
  {
   "cell_type": "code",
   "execution_count": 19,
   "id": "3539bbd3",
   "metadata": {
    "execution": {
     "iopub.execute_input": "2022-09-29T21:07:32.666082Z",
     "iopub.status.busy": "2022-09-29T21:07:32.665415Z",
     "iopub.status.idle": "2022-09-29T21:07:34.412073Z",
     "shell.execute_reply": "2022-09-29T21:07:34.410881Z"
    },
    "id": "7KfHZwZc8g9z",
    "outputId": "6e085811-cb92-4f4d-8a60-b88967f89b11",
    "papermill": {
     "duration": 1.772595,
     "end_time": "2022-09-29T21:07:34.414482",
     "exception": false,
     "start_time": "2022-09-29T21:07:32.641887",
     "status": "completed"
    },
    "tags": []
   },
   "outputs": [
    {
     "data": {
      "image/png": "[encoded data removed]",
      "text/plain": [
       "<Figure size 1296x720 with 6 Axes>"
      ]
     },
     "metadata": {
      "needs_background": "light"
     },
     "output_type": "display_data"
    }
   ],
   "source": [
    "categorical = ['HomePlanet', 'VIP', 'CabinDeck', \n",
    "               'Destination', 'CryoSleep', 'CabinSide']\n",
    "\n",
    "fig, axes = plt.subplots(len(train_[num_features].columns)//3, 2, figsize = (18, 10))\n",
    "i = 0\n",
    "fig.subplots_adjust(hspace=0.5,\n",
    "                    wspace = 0.3)\n",
    "for triaxis in axes:\n",
    "    for axis in triaxis:\n",
    "        sns.barplot(data = train_, x = train_[categorical[i]],\n",
    "                    y = 'TotalExp', ax = axis, palette = 'flare')\n",
    "        i = i+1"
   ]
  },
  {
   "cell_type": "markdown",
   "id": "1ec80fa2",
   "metadata": {
    "id": "AihuzCqMTZOF",
    "papermill": {
     "duration": 0.02198,
     "end_time": "2022-09-29T21:07:34.458874",
     "exception": false,
     "start_time": "2022-09-29T21:07:34.436894",
     "status": "completed"
    },
    "tags": []
   },
   "source": [
    "**Observations**\n",
    "* Most of the people in the dataset are from planet Earth.\n",
    "* The designated destination of most people is in planet TRAPPIST-1e.\n",
    "* Most of the people in the dataset are in the age range of 20-30 years old.\n",
    "* Outliers are present in almost all of the numerical features.\n",
    "\n",
    "**Decisisions**\n",
    "* Create new features using Feature engineering.\n",
    "* Consider on including the features 'HomePlanet', 'Destination, 'CabinDeck', 'VIP', 'CryoSleep', and 'CabinSide.'"
   ]
  },
  {
   "cell_type": "markdown",
   "id": "f46d3821",
   "metadata": {
    "id": "3JQaLdSkQPbn",
    "papermill": {
     "duration": 0.022308,
     "end_time": "2022-09-29T21:07:34.503523",
     "exception": false,
     "start_time": "2022-09-29T21:07:34.481215",
     "status": "completed"
    },
    "tags": []
   },
   "source": [
    "### **Handling Null Values**"
   ]
  },
  {
   "cell_type": "markdown",
   "id": "cc7e0c7c",
   "metadata": {
    "id": "eJs9v1zIQXDe",
    "papermill": {
     "duration": 0.021926,
     "end_time": "2022-09-29T21:07:34.547896",
     "exception": false,
     "start_time": "2022-09-29T21:07:34.525970",
     "status": "completed"
    },
    "tags": []
   },
   "source": [
    "Determine the number of null values for each column."
   ]
  },
  {
   "cell_type": "code",
   "execution_count": 20,
   "id": "88e9bd18",
   "metadata": {
    "execution": {
     "iopub.execute_input": "2022-09-29T21:07:34.595739Z",
     "iopub.status.busy": "2022-09-29T21:07:34.595072Z",
     "iopub.status.idle": "2022-09-29T21:07:34.603677Z",
     "shell.execute_reply": "2022-09-29T21:07:34.602610Z"
    },
    "id": "hEWcml-eKfFj",
    "outputId": "4009ce41-945f-4030-abe1-5933050cc4ad",
    "papermill": {
     "duration": 0.03571,
     "end_time": "2022-09-29T21:07:34.605904",
     "exception": false,
     "start_time": "2022-09-29T21:07:34.570194",
     "status": "completed"
    },
    "tags": []
   },
   "outputs": [
    {
     "data": {
      "text/plain": [
       "PassengerId      object\n",
       "HomePlanet       object\n",
       "CryoSleep        object\n",
       "Cabin            object\n",
       "Destination      object\n",
       "Age             float64\n",
       "VIP              object\n",
       "RoomService     float64\n",
       "FoodCourt       float64\n",
       "ShoppingMall    float64\n",
       "Spa             float64\n",
       "VRDeck          float64\n",
       "Name             object\n",
       "Transported        bool\n",
       "TotalExp        float64\n",
       "CabinDeck        object\n",
       "CabinNum         object\n",
       "CabinSide        object\n",
       "PassengerGrp      int64\n",
       "PassengerNum      int64\n",
       "dtype: object"
      ]
     },
     "execution_count": 20,
     "metadata": {},
     "output_type": "execute_result"
    }
   ],
   "source": [
    "train_.dtypes"
   ]
  },
  {
   "cell_type": "code",
   "execution_count": 21,
   "id": "d8ed5198",
   "metadata": {
    "execution": {
     "iopub.execute_input": "2022-09-29T21:07:34.653008Z",
     "iopub.status.busy": "2022-09-29T21:07:34.652306Z",
     "iopub.status.idle": "2022-09-29T21:07:34.666189Z",
     "shell.execute_reply": "2022-09-29T21:07:34.665026Z"
    },
    "id": "QcMRefjlQVEO",
    "outputId": "b13b47af-0bc3-4ae1-ca13-b34828a201fd",
    "papermill": {
     "duration": 0.040079,
     "end_time": "2022-09-29T21:07:34.668417",
     "exception": false,
     "start_time": "2022-09-29T21:07:34.628338",
     "status": "completed"
    },
    "tags": []
   },
   "outputs": [
    {
     "data": {
      "text/plain": [
       "PassengerId       0\n",
       "HomePlanet      201\n",
       "CryoSleep       217\n",
       "Cabin           199\n",
       "Destination     182\n",
       "Age             179\n",
       "VIP             203\n",
       "RoomService     181\n",
       "FoodCourt       183\n",
       "ShoppingMall    208\n",
       "Spa             183\n",
       "VRDeck          188\n",
       "Name            200\n",
       "Transported       0\n",
       "TotalExp        908\n",
       "CabinDeck       199\n",
       "CabinNum        199\n",
       "CabinSide       199\n",
       "PassengerGrp      0\n",
       "PassengerNum      0\n",
       "dtype: int64"
      ]
     },
     "execution_count": 21,
     "metadata": {},
     "output_type": "execute_result"
    }
   ],
   "source": [
    "train_.isnull().sum()"
   ]
  },
  {
   "cell_type": "code",
   "execution_count": 22,
   "id": "a5f639f6",
   "metadata": {
    "execution": {
     "iopub.execute_input": "2022-09-29T21:07:34.715530Z",
     "iopub.status.busy": "2022-09-29T21:07:34.714865Z",
     "iopub.status.idle": "2022-09-29T21:07:34.727460Z",
     "shell.execute_reply": "2022-09-29T21:07:34.726274Z"
    },
    "papermill": {
     "duration": 0.039219,
     "end_time": "2022-09-29T21:07:34.730119",
     "exception": false,
     "start_time": "2022-09-29T21:07:34.690900",
     "status": "completed"
    },
    "tags": []
   },
   "outputs": [
    {
     "data": {
      "text/plain": [
       "PassengerId       0\n",
       "HomePlanet       87\n",
       "CryoSleep        93\n",
       "Cabin           100\n",
       "Destination      92\n",
       "Age              91\n",
       "VIP              93\n",
       "RoomService      82\n",
       "FoodCourt       106\n",
       "ShoppingMall     98\n",
       "Spa             101\n",
       "VRDeck           80\n",
       "Name             94\n",
       "TotalExp        455\n",
       "CabinDeck       100\n",
       "CabinNum        100\n",
       "CabinSide       100\n",
       "PassengerGrp      0\n",
       "PassengerNum      0\n",
       "dtype: int64"
      ]
     },
     "execution_count": 22,
     "metadata": {},
     "output_type": "execute_result"
    }
   ],
   "source": [
    "test_.isnull().sum()"
   ]
  },
  {
   "cell_type": "markdown",
   "id": "9fc41f8e",
   "metadata": {
    "id": "QoR-IFY1RatG",
    "papermill": {
     "duration": 0.022469,
     "end_time": "2022-09-29T21:07:34.775396",
     "exception": false,
     "start_time": "2022-09-29T21:07:34.752927",
     "status": "completed"
    },
    "tags": []
   },
   "source": [
    "**Observations**\n",
    "* Most of the columns have missing data.\n",
    "* Only the columns 'PassengerId', 'Transported', 'PassengerGrp', and 'PassengerNum' do not have null values.\n",
    "\n",
    "**Decisions**\n",
    "* Impute the missing values with median."
   ]
  },
  {
   "cell_type": "code",
   "execution_count": 23,
   "id": "fcee6950",
   "metadata": {
    "execution": {
     "iopub.execute_input": "2022-09-29T21:07:34.823134Z",
     "iopub.status.busy": "2022-09-29T21:07:34.822715Z",
     "iopub.status.idle": "2022-09-29T21:07:34.834769Z",
     "shell.execute_reply": "2022-09-29T21:07:34.833250Z"
    },
    "id": "rgz_xF2BKyNz",
    "outputId": "11db8089-9a78-4352-f4c7-d9ffe7140859",
    "papermill": {
     "duration": 0.038984,
     "end_time": "2022-09-29T21:07:34.837557",
     "exception": false,
     "start_time": "2022-09-29T21:07:34.798573",
     "status": "completed"
    },
    "tags": []
   },
   "outputs": [
    {
     "data": {
      "text/plain": [
       "Age             179\n",
       "RoomService     181\n",
       "FoodCourt       183\n",
       "ShoppingMall    208\n",
       "Spa             183\n",
       "VRDeck          188\n",
       "TotalExp        908\n",
       "PassengerGrp      0\n",
       "PassengerNum      0\n",
       "dtype: int64"
      ]
     },
     "execution_count": 23,
     "metadata": {},
     "output_type": "execute_result"
    }
   ],
   "source": [
    "train_[num_features].isnull().sum()"
   ]
  },
  {
   "cell_type": "code",
   "execution_count": 24,
   "id": "7a05eddc",
   "metadata": {
    "execution": {
     "iopub.execute_input": "2022-09-29T21:07:34.887141Z",
     "iopub.status.busy": "2022-09-29T21:07:34.885931Z",
     "iopub.status.idle": "2022-09-29T21:07:34.904207Z",
     "shell.execute_reply": "2022-09-29T21:07:34.903073Z"
    },
    "id": "OvkgS1O1YjGv",
    "outputId": "0f7bd89b-c216-4f8f-b003-dd7d705c5bdb",
    "papermill": {
     "duration": 0.045912,
     "end_time": "2022-09-29T21:07:34.907416",
     "exception": false,
     "start_time": "2022-09-29T21:07:34.861504",
     "status": "completed"
    },
    "tags": []
   },
   "outputs": [
    {
     "data": {
      "text/plain": [
       "Age             0\n",
       "RoomService     0\n",
       "FoodCourt       0\n",
       "ShoppingMall    0\n",
       "Spa             0\n",
       "VRDeck          0\n",
       "TotalExp        0\n",
       "PassengerGrp    0\n",
       "PassengerNum    0\n",
       "dtype: int64"
      ]
     },
     "execution_count": 24,
     "metadata": {},
     "output_type": "execute_result"
    }
   ],
   "source": [
    "# Impute missing values with Median for each Numerical feature\n",
    "for col in num_features:\n",
    "    train_[col] = train_[col].fillna(train_[col].median())\n",
    "\n",
    "train_[num_features].isnull().sum()"
   ]
  },
  {
   "cell_type": "code",
   "execution_count": 25,
   "id": "315628e6",
   "metadata": {
    "execution": {
     "iopub.execute_input": "2022-09-29T21:07:34.955920Z",
     "iopub.status.busy": "2022-09-29T21:07:34.955509Z",
     "iopub.status.idle": "2022-09-29T21:07:34.967455Z",
     "shell.execute_reply": "2022-09-29T21:07:34.966333Z"
    },
    "papermill": {
     "duration": 0.03854,
     "end_time": "2022-09-29T21:07:34.969803",
     "exception": false,
     "start_time": "2022-09-29T21:07:34.931263",
     "status": "completed"
    },
    "tags": []
   },
   "outputs": [
    {
     "data": {
      "text/plain": [
       "Age              91\n",
       "RoomService      82\n",
       "FoodCourt       106\n",
       "ShoppingMall     98\n",
       "Spa             101\n",
       "VRDeck           80\n",
       "TotalExp        455\n",
       "PassengerGrp      0\n",
       "PassengerNum      0\n",
       "dtype: int64"
      ]
     },
     "execution_count": 25,
     "metadata": {},
     "output_type": "execute_result"
    }
   ],
   "source": [
    "test_[num_features].isnull().sum()"
   ]
  },
  {
   "cell_type": "code",
   "execution_count": 26,
   "id": "d78c6e99",
   "metadata": {
    "execution": {
     "iopub.execute_input": "2022-09-29T21:07:35.018076Z",
     "iopub.status.busy": "2022-09-29T21:07:35.017614Z",
     "iopub.status.idle": "2022-09-29T21:07:35.034742Z",
     "shell.execute_reply": "2022-09-29T21:07:35.033457Z"
    },
    "papermill": {
     "duration": 0.044142,
     "end_time": "2022-09-29T21:07:35.037418",
     "exception": false,
     "start_time": "2022-09-29T21:07:34.993276",
     "status": "completed"
    },
    "tags": []
   },
   "outputs": [
    {
     "data": {
      "text/plain": [
       "Age             0\n",
       "RoomService     0\n",
       "FoodCourt       0\n",
       "ShoppingMall    0\n",
       "Spa             0\n",
       "VRDeck          0\n",
       "TotalExp        0\n",
       "PassengerGrp    0\n",
       "PassengerNum    0\n",
       "dtype: int64"
      ]
     },
     "execution_count": 26,
     "metadata": {},
     "output_type": "execute_result"
    }
   ],
   "source": [
    "# Impute missing values with Median for each Numerical feature\n",
    "for col in num_features:\n",
    "    test_[col] = test_[col].fillna(test_[col].median())\n",
    "\n",
    "test_[num_features].isnull().sum()"
   ]
  },
  {
   "cell_type": "code",
   "execution_count": 27,
   "id": "8023cd54",
   "metadata": {
    "execution": {
     "iopub.execute_input": "2022-09-29T21:07:35.086667Z",
     "iopub.status.busy": "2022-09-29T21:07:35.085483Z",
     "iopub.status.idle": "2022-09-29T21:07:35.101314Z",
     "shell.execute_reply": "2022-09-29T21:07:35.100145Z"
    },
    "id": "y8MA0hkDZSa5",
    "outputId": "6468a363-ce62-4db4-aeb7-ee40b51c54b0",
    "papermill": {
     "duration": 0.042974,
     "end_time": "2022-09-29T21:07:35.103657",
     "exception": false,
     "start_time": "2022-09-29T21:07:35.060683",
     "status": "completed"
    },
    "tags": []
   },
   "outputs": [
    {
     "data": {
      "text/plain": [
       "PassengerId      0\n",
       "HomePlanet     201\n",
       "CryoSleep      217\n",
       "Cabin          199\n",
       "Destination    182\n",
       "VIP            203\n",
       "Name           200\n",
       "CabinDeck      199\n",
       "CabinNum       199\n",
       "CabinSide      199\n",
       "dtype: int64"
      ]
     },
     "execution_count": 27,
     "metadata": {},
     "output_type": "execute_result"
    }
   ],
   "source": [
    "train_[cat_features].isnull().sum()"
   ]
  },
  {
   "cell_type": "code",
   "execution_count": 28,
   "id": "148cabed",
   "metadata": {
    "execution": {
     "iopub.execute_input": "2022-09-29T21:07:35.151815Z",
     "iopub.status.busy": "2022-09-29T21:07:35.151435Z",
     "iopub.status.idle": "2022-09-29T21:07:35.197773Z",
     "shell.execute_reply": "2022-09-29T21:07:35.196540Z"
    },
    "id": "WOaQazZnZYm5",
    "outputId": "285d28b6-a54a-4046-9141-86c3db40e7db",
    "papermill": {
     "duration": 0.073463,
     "end_time": "2022-09-29T21:07:35.200298",
     "exception": false,
     "start_time": "2022-09-29T21:07:35.126835",
     "status": "completed"
    },
    "tags": []
   },
   "outputs": [
    {
     "data": {
      "text/plain": [
       "PassengerId    0\n",
       "HomePlanet     0\n",
       "CryoSleep      0\n",
       "Cabin          0\n",
       "Destination    0\n",
       "VIP            0\n",
       "Name           0\n",
       "CabinDeck      0\n",
       "CabinNum       0\n",
       "CabinSide      0\n",
       "dtype: int64"
      ]
     },
     "execution_count": 28,
     "metadata": {},
     "output_type": "execute_result"
    }
   ],
   "source": [
    "# Impute missing values with Mode for each Categorical feature\n",
    "for col in cat_features:\n",
    "    train_[col] = train_[col].fillna(train_[col].mode()[0])\n",
    "\n",
    "train_['CabinNum'] = train_['CabinNum'].astype(int)\n",
    "train_[cat_features].isnull().sum()"
   ]
  },
  {
   "cell_type": "code",
   "execution_count": 29,
   "id": "17260a85",
   "metadata": {
    "execution": {
     "iopub.execute_input": "2022-09-29T21:07:35.248794Z",
     "iopub.status.busy": "2022-09-29T21:07:35.248408Z",
     "iopub.status.idle": "2022-09-29T21:07:35.260865Z",
     "shell.execute_reply": "2022-09-29T21:07:35.259969Z"
    },
    "papermill": {
     "duration": 0.039265,
     "end_time": "2022-09-29T21:07:35.262994",
     "exception": false,
     "start_time": "2022-09-29T21:07:35.223729",
     "status": "completed"
    },
    "tags": []
   },
   "outputs": [
    {
     "data": {
      "text/plain": [
       "PassengerId      0\n",
       "HomePlanet      87\n",
       "CryoSleep       93\n",
       "Cabin          100\n",
       "Destination     92\n",
       "VIP             93\n",
       "Name            94\n",
       "CabinDeck      100\n",
       "CabinNum       100\n",
       "CabinSide      100\n",
       "dtype: int64"
      ]
     },
     "execution_count": 29,
     "metadata": {},
     "output_type": "execute_result"
    }
   ],
   "source": [
    "test_[cat_features].isnull().sum()"
   ]
  },
  {
   "cell_type": "code",
   "execution_count": 30,
   "id": "9a013dcd",
   "metadata": {
    "execution": {
     "iopub.execute_input": "2022-09-29T21:07:35.311734Z",
     "iopub.status.busy": "2022-09-29T21:07:35.311337Z",
     "iopub.status.idle": "2022-09-29T21:07:35.345798Z",
     "shell.execute_reply": "2022-09-29T21:07:35.344690Z"
    },
    "papermill": {
     "duration": 0.061991,
     "end_time": "2022-09-29T21:07:35.348405",
     "exception": false,
     "start_time": "2022-09-29T21:07:35.286414",
     "status": "completed"
    },
    "tags": []
   },
   "outputs": [
    {
     "data": {
      "text/plain": [
       "PassengerId    0\n",
       "HomePlanet     0\n",
       "CryoSleep      0\n",
       "Cabin          0\n",
       "Destination    0\n",
       "VIP            0\n",
       "Name           0\n",
       "CabinDeck      0\n",
       "CabinNum       0\n",
       "CabinSide      0\n",
       "dtype: int64"
      ]
     },
     "execution_count": 30,
     "metadata": {},
     "output_type": "execute_result"
    }
   ],
   "source": [
    "# Impute missing values with Mode for each Categorical feature\n",
    "for col in cat_features:\n",
    "    test_[col] = test_[col].fillna(test_[col].mode()[0])\n",
    "\n",
    "test_['CabinNum'] = test_['CabinNum'].astype(int)\n",
    "test_[cat_features].isnull().sum()"
   ]
  },
  {
   "cell_type": "code",
   "execution_count": 31,
   "id": "cbb57e0f",
   "metadata": {
    "execution": {
     "iopub.execute_input": "2022-09-29T21:07:35.399299Z",
     "iopub.status.busy": "2022-09-29T21:07:35.398627Z",
     "iopub.status.idle": "2022-09-29T21:07:35.411532Z",
     "shell.execute_reply": "2022-09-29T21:07:35.410381Z"
    },
    "id": "5DtKv3J5ZkzX",
    "outputId": "293b6425-d970-4b11-bb08-0a530c4fbfe4",
    "papermill": {
     "duration": 0.041304,
     "end_time": "2022-09-29T21:07:35.414092",
     "exception": false,
     "start_time": "2022-09-29T21:07:35.372788",
     "status": "completed"
    },
    "tags": []
   },
   "outputs": [
    {
     "data": {
      "text/plain": [
       "PassengerId     0\n",
       "HomePlanet      0\n",
       "CryoSleep       0\n",
       "Cabin           0\n",
       "Destination     0\n",
       "Age             0\n",
       "VIP             0\n",
       "RoomService     0\n",
       "FoodCourt       0\n",
       "ShoppingMall    0\n",
       "Spa             0\n",
       "VRDeck          0\n",
       "Name            0\n",
       "Transported     0\n",
       "TotalExp        0\n",
       "CabinDeck       0\n",
       "CabinNum        0\n",
       "CabinSide       0\n",
       "PassengerGrp    0\n",
       "PassengerNum    0\n",
       "dtype: int64"
      ]
     },
     "execution_count": 31,
     "metadata": {},
     "output_type": "execute_result"
    }
   ],
   "source": [
    "train_.isnull().sum()"
   ]
  },
  {
   "cell_type": "code",
   "execution_count": 32,
   "id": "e5bc2571",
   "metadata": {
    "execution": {
     "iopub.execute_input": "2022-09-29T21:07:35.464829Z",
     "iopub.status.busy": "2022-09-29T21:07:35.464269Z",
     "iopub.status.idle": "2022-09-29T21:07:35.477131Z",
     "shell.execute_reply": "2022-09-29T21:07:35.475914Z"
    },
    "papermill": {
     "duration": 0.040933,
     "end_time": "2022-09-29T21:07:35.479510",
     "exception": false,
     "start_time": "2022-09-29T21:07:35.438577",
     "status": "completed"
    },
    "tags": []
   },
   "outputs": [
    {
     "data": {
      "text/plain": [
       "PassengerId     0\n",
       "HomePlanet      0\n",
       "CryoSleep       0\n",
       "Cabin           0\n",
       "Destination     0\n",
       "Age             0\n",
       "VIP             0\n",
       "RoomService     0\n",
       "FoodCourt       0\n",
       "ShoppingMall    0\n",
       "Spa             0\n",
       "VRDeck          0\n",
       "Name            0\n",
       "TotalExp        0\n",
       "CabinDeck       0\n",
       "CabinNum        0\n",
       "CabinSide       0\n",
       "PassengerGrp    0\n",
       "PassengerNum    0\n",
       "dtype: int64"
      ]
     },
     "execution_count": 32,
     "metadata": {},
     "output_type": "execute_result"
    }
   ],
   "source": [
    "test_.isnull().sum()"
   ]
  },
  {
   "cell_type": "markdown",
   "id": "433014b0",
   "metadata": {
    "id": "sD2b1ocBQdp-",
    "papermill": {
     "duration": 0.024512,
     "end_time": "2022-09-29T21:07:35.528422",
     "exception": false,
     "start_time": "2022-09-29T21:07:35.503910",
     "status": "completed"
    },
    "tags": []
   },
   "source": [
    "### **Data Preprocessing**"
   ]
  },
  {
   "cell_type": "code",
   "execution_count": 33,
   "id": "759a8339",
   "metadata": {
    "execution": {
     "iopub.execute_input": "2022-09-29T21:07:35.580327Z",
     "iopub.status.busy": "2022-09-29T21:07:35.579910Z",
     "iopub.status.idle": "2022-09-29T21:07:35.588702Z",
     "shell.execute_reply": "2022-09-29T21:07:35.587492Z"
    },
    "id": "96g-kxs5Lffz",
    "papermill": {
     "duration": 0.036969,
     "end_time": "2022-09-29T21:07:35.590798",
     "exception": false,
     "start_time": "2022-09-29T21:07:35.553829",
     "status": "completed"
    },
    "tags": []
   },
   "outputs": [],
   "source": [
    "# Drop unncecessary columns\n",
    "drop_col = ['Cabin', 'Name']\n",
    "train_ = train_.drop(columns = drop_col)\n",
    "test_ = test_.drop(columns = drop_col)"
   ]
  },
  {
   "cell_type": "code",
   "execution_count": 34,
   "id": "c4cd615d",
   "metadata": {
    "execution": {
     "iopub.execute_input": "2022-09-29T21:07:35.640632Z",
     "iopub.status.busy": "2022-09-29T21:07:35.640202Z",
     "iopub.status.idle": "2022-09-29T21:07:35.665400Z",
     "shell.execute_reply": "2022-09-29T21:07:35.664301Z"
    },
    "id": "xPEGd86zTBR7",
    "outputId": "8da22a96-06ce-42ad-b942-da7780e1deee",
    "papermill": {
     "duration": 0.052842,
     "end_time": "2022-09-29T21:07:35.667717",
     "exception": false,
     "start_time": "2022-09-29T21:07:35.614875",
     "status": "completed"
    },
    "tags": []
   },
   "outputs": [
    {
     "data": {
      "text/html": [
       "<div>\n",
       "<style scoped>\n",
       "    .dataframe tbody tr th:only-of-type {\n",
       "        vertical-align: middle;\n",
       "    }\n",
       "\n",
       "    .dataframe tbody tr th {\n",
       "        vertical-align: top;\n",
       "    }\n",
       "\n",
       "    .dataframe thead th {\n",
       "        text-align: right;\n",
       "    }\n",
       "</style>\n",
       "<table border=\"1\" class=\"dataframe\">\n",
       "  <thead>\n",
       "    <tr style=\"text-align: right;\">\n",
       "      <th></th>\n",
       "      <th>PassengerId</th>\n",
       "      <th>HomePlanet</th>\n",
       "      <th>CryoSleep</th>\n",
       "      <th>Destination</th>\n",
       "      <th>Age</th>\n",
       "      <th>VIP</th>\n",
       "      <th>RoomService</th>\n",
       "      <th>FoodCourt</th>\n",
       "      <th>ShoppingMall</th>\n",
       "      <th>Spa</th>\n",
       "      <th>VRDeck</th>\n",
       "      <th>Transported</th>\n",
       "      <th>TotalExp</th>\n",
       "      <th>CabinDeck</th>\n",
       "      <th>CabinNum</th>\n",
       "      <th>CabinSide</th>\n",
       "      <th>PassengerGrp</th>\n",
       "      <th>PassengerNum</th>\n",
       "    </tr>\n",
       "  </thead>\n",
       "  <tbody>\n",
       "    <tr>\n",
       "      <th>0</th>\n",
       "      <td>0001_01</td>\n",
       "      <td>Europa</td>\n",
       "      <td>False</td>\n",
       "      <td>TRAPPIST-1e</td>\n",
       "      <td>39.0</td>\n",
       "      <td>False</td>\n",
       "      <td>0.0</td>\n",
       "      <td>0.0</td>\n",
       "      <td>0.0</td>\n",
       "      <td>0.0</td>\n",
       "      <td>0.0</td>\n",
       "      <td>False</td>\n",
       "      <td>0.0</td>\n",
       "      <td>B</td>\n",
       "      <td>0</td>\n",
       "      <td>P</td>\n",
       "      <td>1</td>\n",
       "      <td>1</td>\n",
       "    </tr>\n",
       "    <tr>\n",
       "      <th>1</th>\n",
       "      <td>0002_01</td>\n",
       "      <td>Earth</td>\n",
       "      <td>False</td>\n",
       "      <td>TRAPPIST-1e</td>\n",
       "      <td>24.0</td>\n",
       "      <td>False</td>\n",
       "      <td>109.0</td>\n",
       "      <td>9.0</td>\n",
       "      <td>25.0</td>\n",
       "      <td>549.0</td>\n",
       "      <td>44.0</td>\n",
       "      <td>True</td>\n",
       "      <td>736.0</td>\n",
       "      <td>F</td>\n",
       "      <td>0</td>\n",
       "      <td>S</td>\n",
       "      <td>2</td>\n",
       "      <td>1</td>\n",
       "    </tr>\n",
       "    <tr>\n",
       "      <th>2</th>\n",
       "      <td>0003_01</td>\n",
       "      <td>Europa</td>\n",
       "      <td>False</td>\n",
       "      <td>TRAPPIST-1e</td>\n",
       "      <td>58.0</td>\n",
       "      <td>True</td>\n",
       "      <td>43.0</td>\n",
       "      <td>3576.0</td>\n",
       "      <td>0.0</td>\n",
       "      <td>6715.0</td>\n",
       "      <td>49.0</td>\n",
       "      <td>False</td>\n",
       "      <td>10383.0</td>\n",
       "      <td>A</td>\n",
       "      <td>0</td>\n",
       "      <td>S</td>\n",
       "      <td>3</td>\n",
       "      <td>1</td>\n",
       "    </tr>\n",
       "    <tr>\n",
       "      <th>3</th>\n",
       "      <td>0003_02</td>\n",
       "      <td>Europa</td>\n",
       "      <td>False</td>\n",
       "      <td>TRAPPIST-1e</td>\n",
       "      <td>33.0</td>\n",
       "      <td>False</td>\n",
       "      <td>0.0</td>\n",
       "      <td>1283.0</td>\n",
       "      <td>371.0</td>\n",
       "      <td>3329.0</td>\n",
       "      <td>193.0</td>\n",
       "      <td>False</td>\n",
       "      <td>5176.0</td>\n",
       "      <td>A</td>\n",
       "      <td>0</td>\n",
       "      <td>S</td>\n",
       "      <td>3</td>\n",
       "      <td>2</td>\n",
       "    </tr>\n",
       "    <tr>\n",
       "      <th>4</th>\n",
       "      <td>0004_01</td>\n",
       "      <td>Earth</td>\n",
       "      <td>False</td>\n",
       "      <td>TRAPPIST-1e</td>\n",
       "      <td>16.0</td>\n",
       "      <td>False</td>\n",
       "      <td>303.0</td>\n",
       "      <td>70.0</td>\n",
       "      <td>151.0</td>\n",
       "      <td>565.0</td>\n",
       "      <td>2.0</td>\n",
       "      <td>True</td>\n",
       "      <td>1091.0</td>\n",
       "      <td>F</td>\n",
       "      <td>1</td>\n",
       "      <td>S</td>\n",
       "      <td>4</td>\n",
       "      <td>1</td>\n",
       "    </tr>\n",
       "  </tbody>\n",
       "</table>\n",
       "</div>"
      ],
      "text/plain": [
       "  PassengerId HomePlanet  CryoSleep  Destination   Age    VIP  RoomService  \\\n",
       "0     0001_01     Europa      False  TRAPPIST-1e  39.0  False          0.0   \n",
       "1     0002_01      Earth      False  TRAPPIST-1e  24.0  False        109.0   \n",
       "2     0003_01     Europa      False  TRAPPIST-1e  58.0   True         43.0   \n",
       "3     0003_02     Europa      False  TRAPPIST-1e  33.0  False          0.0   \n",
       "4     0004_01      Earth      False  TRAPPIST-1e  16.0  False        303.0   \n",
       "\n",
       "   FoodCourt  ShoppingMall     Spa  VRDeck  Transported  TotalExp CabinDeck  \\\n",
       "0        0.0           0.0     0.0     0.0        False       0.0         B   \n",
       "1        9.0          25.0   549.0    44.0         True     736.0         F   \n",
       "2     3576.0           0.0  6715.0    49.0        False   10383.0         A   \n",
       "3     1283.0         371.0  3329.0   193.0        False    5176.0         A   \n",
       "4       70.0         151.0   565.0     2.0         True    1091.0         F   \n",
       "\n",
       "   CabinNum CabinSide  PassengerGrp  PassengerNum  \n",
       "0         0         P             1             1  \n",
       "1         0         S             2             1  \n",
       "2         0         S             3             1  \n",
       "3         0         S             3             2  \n",
       "4         1         S             4             1  "
      ]
     },
     "execution_count": 34,
     "metadata": {},
     "output_type": "execute_result"
    }
   ],
   "source": [
    "train_.head()"
   ]
  },
  {
   "cell_type": "code",
   "execution_count": 35,
   "id": "297482ba",
   "metadata": {
    "execution": {
     "iopub.execute_input": "2022-09-29T21:07:35.719694Z",
     "iopub.status.busy": "2022-09-29T21:07:35.719282Z",
     "iopub.status.idle": "2022-09-29T21:07:35.743497Z",
     "shell.execute_reply": "2022-09-29T21:07:35.742487Z"
    },
    "papermill": {
     "duration": 0.052101,
     "end_time": "2022-09-29T21:07:35.745578",
     "exception": false,
     "start_time": "2022-09-29T21:07:35.693477",
     "status": "completed"
    },
    "tags": []
   },
   "outputs": [
    {
     "data": {
      "text/html": [
       "<div>\n",
       "<style scoped>\n",
       "    .dataframe tbody tr th:only-of-type {\n",
       "        vertical-align: middle;\n",
       "    }\n",
       "\n",
       "    .dataframe tbody tr th {\n",
       "        vertical-align: top;\n",
       "    }\n",
       "\n",
       "    .dataframe thead th {\n",
       "        text-align: right;\n",
       "    }\n",
       "</style>\n",
       "<table border=\"1\" class=\"dataframe\">\n",
       "  <thead>\n",
       "    <tr style=\"text-align: right;\">\n",
       "      <th></th>\n",
       "      <th>PassengerId</th>\n",
       "      <th>HomePlanet</th>\n",
       "      <th>CryoSleep</th>\n",
       "      <th>Destination</th>\n",
       "      <th>Age</th>\n",
       "      <th>VIP</th>\n",
       "      <th>RoomService</th>\n",
       "      <th>FoodCourt</th>\n",
       "      <th>ShoppingMall</th>\n",
       "      <th>Spa</th>\n",
       "      <th>VRDeck</th>\n",
       "      <th>TotalExp</th>\n",
       "      <th>CabinDeck</th>\n",
       "      <th>CabinNum</th>\n",
       "      <th>CabinSide</th>\n",
       "      <th>PassengerGrp</th>\n",
       "      <th>PassengerNum</th>\n",
       "    </tr>\n",
       "  </thead>\n",
       "  <tbody>\n",
       "    <tr>\n",
       "      <th>0</th>\n",
       "      <td>0013_01</td>\n",
       "      <td>Earth</td>\n",
       "      <td>True</td>\n",
       "      <td>TRAPPIST-1e</td>\n",
       "      <td>27.0</td>\n",
       "      <td>False</td>\n",
       "      <td>0.0</td>\n",
       "      <td>0.0</td>\n",
       "      <td>0.0</td>\n",
       "      <td>0.0</td>\n",
       "      <td>0.0</td>\n",
       "      <td>0.0</td>\n",
       "      <td>G</td>\n",
       "      <td>3</td>\n",
       "      <td>S</td>\n",
       "      <td>13</td>\n",
       "      <td>1</td>\n",
       "    </tr>\n",
       "    <tr>\n",
       "      <th>1</th>\n",
       "      <td>0018_01</td>\n",
       "      <td>Earth</td>\n",
       "      <td>False</td>\n",
       "      <td>TRAPPIST-1e</td>\n",
       "      <td>19.0</td>\n",
       "      <td>False</td>\n",
       "      <td>0.0</td>\n",
       "      <td>9.0</td>\n",
       "      <td>0.0</td>\n",
       "      <td>2823.0</td>\n",
       "      <td>0.0</td>\n",
       "      <td>2832.0</td>\n",
       "      <td>F</td>\n",
       "      <td>4</td>\n",
       "      <td>S</td>\n",
       "      <td>18</td>\n",
       "      <td>1</td>\n",
       "    </tr>\n",
       "    <tr>\n",
       "      <th>2</th>\n",
       "      <td>0019_01</td>\n",
       "      <td>Europa</td>\n",
       "      <td>True</td>\n",
       "      <td>55 Cancri e</td>\n",
       "      <td>31.0</td>\n",
       "      <td>False</td>\n",
       "      <td>0.0</td>\n",
       "      <td>0.0</td>\n",
       "      <td>0.0</td>\n",
       "      <td>0.0</td>\n",
       "      <td>0.0</td>\n",
       "      <td>0.0</td>\n",
       "      <td>C</td>\n",
       "      <td>0</td>\n",
       "      <td>S</td>\n",
       "      <td>19</td>\n",
       "      <td>1</td>\n",
       "    </tr>\n",
       "    <tr>\n",
       "      <th>3</th>\n",
       "      <td>0021_01</td>\n",
       "      <td>Europa</td>\n",
       "      <td>False</td>\n",
       "      <td>TRAPPIST-1e</td>\n",
       "      <td>38.0</td>\n",
       "      <td>False</td>\n",
       "      <td>0.0</td>\n",
       "      <td>6652.0</td>\n",
       "      <td>0.0</td>\n",
       "      <td>181.0</td>\n",
       "      <td>585.0</td>\n",
       "      <td>7418.0</td>\n",
       "      <td>C</td>\n",
       "      <td>1</td>\n",
       "      <td>S</td>\n",
       "      <td>21</td>\n",
       "      <td>1</td>\n",
       "    </tr>\n",
       "    <tr>\n",
       "      <th>4</th>\n",
       "      <td>0023_01</td>\n",
       "      <td>Earth</td>\n",
       "      <td>False</td>\n",
       "      <td>TRAPPIST-1e</td>\n",
       "      <td>20.0</td>\n",
       "      <td>False</td>\n",
       "      <td>10.0</td>\n",
       "      <td>0.0</td>\n",
       "      <td>635.0</td>\n",
       "      <td>0.0</td>\n",
       "      <td>0.0</td>\n",
       "      <td>645.0</td>\n",
       "      <td>F</td>\n",
       "      <td>5</td>\n",
       "      <td>S</td>\n",
       "      <td>23</td>\n",
       "      <td>1</td>\n",
       "    </tr>\n",
       "  </tbody>\n",
       "</table>\n",
       "</div>"
      ],
      "text/plain": [
       "  PassengerId HomePlanet  CryoSleep  Destination   Age    VIP  RoomService  \\\n",
       "0     0013_01      Earth       True  TRAPPIST-1e  27.0  False          0.0   \n",
       "1     0018_01      Earth      False  TRAPPIST-1e  19.0  False          0.0   \n",
       "2     0019_01     Europa       True  55 Cancri e  31.0  False          0.0   \n",
       "3     0021_01     Europa      False  TRAPPIST-1e  38.0  False          0.0   \n",
       "4     0023_01      Earth      False  TRAPPIST-1e  20.0  False         10.0   \n",
       "\n",
       "   FoodCourt  ShoppingMall     Spa  VRDeck  TotalExp CabinDeck  CabinNum  \\\n",
       "0        0.0           0.0     0.0     0.0       0.0         G         3   \n",
       "1        9.0           0.0  2823.0     0.0    2832.0         F         4   \n",
       "2        0.0           0.0     0.0     0.0       0.0         C         0   \n",
       "3     6652.0           0.0   181.0   585.0    7418.0         C         1   \n",
       "4        0.0         635.0     0.0     0.0     645.0         F         5   \n",
       "\n",
       "  CabinSide  PassengerGrp  PassengerNum  \n",
       "0         S            13             1  \n",
       "1         S            18             1  \n",
       "2         S            19             1  \n",
       "3         S            21             1  \n",
       "4         S            23             1  "
      ]
     },
     "execution_count": 35,
     "metadata": {},
     "output_type": "execute_result"
    }
   ],
   "source": [
    "test_.head()"
   ]
  },
  {
   "cell_type": "code",
   "execution_count": 36,
   "id": "f97c37ea",
   "metadata": {
    "execution": {
     "iopub.execute_input": "2022-09-29T21:07:35.796563Z",
     "iopub.status.busy": "2022-09-29T21:07:35.796156Z",
     "iopub.status.idle": "2022-09-29T21:07:35.804061Z",
     "shell.execute_reply": "2022-09-29T21:07:35.802909Z"
    },
    "id": "lpD_ulNdTYWT",
    "papermill": {
     "duration": 0.036211,
     "end_time": "2022-09-29T21:07:35.806517",
     "exception": false,
     "start_time": "2022-09-29T21:07:35.770306",
     "status": "completed"
    },
    "tags": []
   },
   "outputs": [],
   "source": [
    "X = train_.drop(columns = ['Transported'])\n",
    "y = train_[['PassengerId', 'Transported']]"
   ]
  },
  {
   "cell_type": "code",
   "execution_count": 37,
   "id": "5ab51c65",
   "metadata": {
    "execution": {
     "iopub.execute_input": "2022-09-29T21:07:35.857724Z",
     "iopub.status.busy": "2022-09-29T21:07:35.857309Z",
     "iopub.status.idle": "2022-09-29T21:07:35.881802Z",
     "shell.execute_reply": "2022-09-29T21:07:35.880715Z"
    },
    "id": "R_PNfMU5Tkf8",
    "outputId": "25158bc7-cb15-447a-90eb-fd334ef5bc7b",
    "papermill": {
     "duration": 0.052784,
     "end_time": "2022-09-29T21:07:35.884164",
     "exception": false,
     "start_time": "2022-09-29T21:07:35.831380",
     "status": "completed"
    },
    "tags": []
   },
   "outputs": [
    {
     "data": {
      "text/html": [
       "<div>\n",
       "<style scoped>\n",
       "    .dataframe tbody tr th:only-of-type {\n",
       "        vertical-align: middle;\n",
       "    }\n",
       "\n",
       "    .dataframe tbody tr th {\n",
       "        vertical-align: top;\n",
       "    }\n",
       "\n",
       "    .dataframe thead th {\n",
       "        text-align: right;\n",
       "    }\n",
       "</style>\n",
       "<table border=\"1\" class=\"dataframe\">\n",
       "  <thead>\n",
       "    <tr style=\"text-align: right;\">\n",
       "      <th></th>\n",
       "      <th>PassengerId</th>\n",
       "      <th>HomePlanet</th>\n",
       "      <th>CryoSleep</th>\n",
       "      <th>Destination</th>\n",
       "      <th>Age</th>\n",
       "      <th>VIP</th>\n",
       "      <th>RoomService</th>\n",
       "      <th>FoodCourt</th>\n",
       "      <th>ShoppingMall</th>\n",
       "      <th>Spa</th>\n",
       "      <th>VRDeck</th>\n",
       "      <th>TotalExp</th>\n",
       "      <th>CabinDeck</th>\n",
       "      <th>CabinNum</th>\n",
       "      <th>CabinSide</th>\n",
       "      <th>PassengerGrp</th>\n",
       "      <th>PassengerNum</th>\n",
       "    </tr>\n",
       "  </thead>\n",
       "  <tbody>\n",
       "    <tr>\n",
       "      <th>0</th>\n",
       "      <td>0001_01</td>\n",
       "      <td>Europa</td>\n",
       "      <td>False</td>\n",
       "      <td>TRAPPIST-1e</td>\n",
       "      <td>39.0</td>\n",
       "      <td>False</td>\n",
       "      <td>0.0</td>\n",
       "      <td>0.0</td>\n",
       "      <td>0.0</td>\n",
       "      <td>0.0</td>\n",
       "      <td>0.0</td>\n",
       "      <td>0.0</td>\n",
       "      <td>B</td>\n",
       "      <td>0</td>\n",
       "      <td>P</td>\n",
       "      <td>1</td>\n",
       "      <td>1</td>\n",
       "    </tr>\n",
       "    <tr>\n",
       "      <th>1</th>\n",
       "      <td>0002_01</td>\n",
       "      <td>Earth</td>\n",
       "      <td>False</td>\n",
       "      <td>TRAPPIST-1e</td>\n",
       "      <td>24.0</td>\n",
       "      <td>False</td>\n",
       "      <td>109.0</td>\n",
       "      <td>9.0</td>\n",
       "      <td>25.0</td>\n",
       "      <td>549.0</td>\n",
       "      <td>44.0</td>\n",
       "      <td>736.0</td>\n",
       "      <td>F</td>\n",
       "      <td>0</td>\n",
       "      <td>S</td>\n",
       "      <td>2</td>\n",
       "      <td>1</td>\n",
       "    </tr>\n",
       "    <tr>\n",
       "      <th>2</th>\n",
       "      <td>0003_01</td>\n",
       "      <td>Europa</td>\n",
       "      <td>False</td>\n",
       "      <td>TRAPPIST-1e</td>\n",
       "      <td>58.0</td>\n",
       "      <td>True</td>\n",
       "      <td>43.0</td>\n",
       "      <td>3576.0</td>\n",
       "      <td>0.0</td>\n",
       "      <td>6715.0</td>\n",
       "      <td>49.0</td>\n",
       "      <td>10383.0</td>\n",
       "      <td>A</td>\n",
       "      <td>0</td>\n",
       "      <td>S</td>\n",
       "      <td>3</td>\n",
       "      <td>1</td>\n",
       "    </tr>\n",
       "    <tr>\n",
       "      <th>3</th>\n",
       "      <td>0003_02</td>\n",
       "      <td>Europa</td>\n",
       "      <td>False</td>\n",
       "      <td>TRAPPIST-1e</td>\n",
       "      <td>33.0</td>\n",
       "      <td>False</td>\n",
       "      <td>0.0</td>\n",
       "      <td>1283.0</td>\n",
       "      <td>371.0</td>\n",
       "      <td>3329.0</td>\n",
       "      <td>193.0</td>\n",
       "      <td>5176.0</td>\n",
       "      <td>A</td>\n",
       "      <td>0</td>\n",
       "      <td>S</td>\n",
       "      <td>3</td>\n",
       "      <td>2</td>\n",
       "    </tr>\n",
       "    <tr>\n",
       "      <th>4</th>\n",
       "      <td>0004_01</td>\n",
       "      <td>Earth</td>\n",
       "      <td>False</td>\n",
       "      <td>TRAPPIST-1e</td>\n",
       "      <td>16.0</td>\n",
       "      <td>False</td>\n",
       "      <td>303.0</td>\n",
       "      <td>70.0</td>\n",
       "      <td>151.0</td>\n",
       "      <td>565.0</td>\n",
       "      <td>2.0</td>\n",
       "      <td>1091.0</td>\n",
       "      <td>F</td>\n",
       "      <td>1</td>\n",
       "      <td>S</td>\n",
       "      <td>4</td>\n",
       "      <td>1</td>\n",
       "    </tr>\n",
       "  </tbody>\n",
       "</table>\n",
       "</div>"
      ],
      "text/plain": [
       "  PassengerId HomePlanet  CryoSleep  Destination   Age    VIP  RoomService  \\\n",
       "0     0001_01     Europa      False  TRAPPIST-1e  39.0  False          0.0   \n",
       "1     0002_01      Earth      False  TRAPPIST-1e  24.0  False        109.0   \n",
       "2     0003_01     Europa      False  TRAPPIST-1e  58.0   True         43.0   \n",
       "3     0003_02     Europa      False  TRAPPIST-1e  33.0  False          0.0   \n",
       "4     0004_01      Earth      False  TRAPPIST-1e  16.0  False        303.0   \n",
       "\n",
       "   FoodCourt  ShoppingMall     Spa  VRDeck  TotalExp CabinDeck  CabinNum  \\\n",
       "0        0.0           0.0     0.0     0.0       0.0         B         0   \n",
       "1        9.0          25.0   549.0    44.0     736.0         F         0   \n",
       "2     3576.0           0.0  6715.0    49.0   10383.0         A         0   \n",
       "3     1283.0         371.0  3329.0   193.0    5176.0         A         0   \n",
       "4       70.0         151.0   565.0     2.0    1091.0         F         1   \n",
       "\n",
       "  CabinSide  PassengerGrp  PassengerNum  \n",
       "0         P             1             1  \n",
       "1         S             2             1  \n",
       "2         S             3             1  \n",
       "3         S             3             2  \n",
       "4         S             4             1  "
      ]
     },
     "execution_count": 37,
     "metadata": {},
     "output_type": "execute_result"
    }
   ],
   "source": [
    "X.head()"
   ]
  },
  {
   "cell_type": "code",
   "execution_count": 38,
   "id": "f4287e32",
   "metadata": {
    "execution": {
     "iopub.execute_input": "2022-09-29T21:07:35.937505Z",
     "iopub.status.busy": "2022-09-29T21:07:35.937136Z",
     "iopub.status.idle": "2022-09-29T21:07:35.947788Z",
     "shell.execute_reply": "2022-09-29T21:07:35.946688Z"
    },
    "id": "BWM22jfpTlsr",
    "outputId": "453cfad4-c439-4c19-a62b-cda238d8e84f",
    "papermill": {
     "duration": 0.039524,
     "end_time": "2022-09-29T21:07:35.949887",
     "exception": false,
     "start_time": "2022-09-29T21:07:35.910363",
     "status": "completed"
    },
    "tags": []
   },
   "outputs": [
    {
     "data": {
      "text/html": [
       "<div>\n",
       "<style scoped>\n",
       "    .dataframe tbody tr th:only-of-type {\n",
       "        vertical-align: middle;\n",
       "    }\n",
       "\n",
       "    .dataframe tbody tr th {\n",
       "        vertical-align: top;\n",
       "    }\n",
       "\n",
       "    .dataframe thead th {\n",
       "        text-align: right;\n",
       "    }\n",
       "</style>\n",
       "<table border=\"1\" class=\"dataframe\">\n",
       "  <thead>\n",
       "    <tr style=\"text-align: right;\">\n",
       "      <th></th>\n",
       "      <th>PassengerId</th>\n",
       "      <th>Transported</th>\n",
       "    </tr>\n",
       "  </thead>\n",
       "  <tbody>\n",
       "    <tr>\n",
       "      <th>0</th>\n",
       "      <td>0001_01</td>\n",
       "      <td>False</td>\n",
       "    </tr>\n",
       "    <tr>\n",
       "      <th>1</th>\n",
       "      <td>0002_01</td>\n",
       "      <td>True</td>\n",
       "    </tr>\n",
       "    <tr>\n",
       "      <th>2</th>\n",
       "      <td>0003_01</td>\n",
       "      <td>False</td>\n",
       "    </tr>\n",
       "    <tr>\n",
       "      <th>3</th>\n",
       "      <td>0003_02</td>\n",
       "      <td>False</td>\n",
       "    </tr>\n",
       "    <tr>\n",
       "      <th>4</th>\n",
       "      <td>0004_01</td>\n",
       "      <td>True</td>\n",
       "    </tr>\n",
       "  </tbody>\n",
       "</table>\n",
       "</div>"
      ],
      "text/plain": [
       "  PassengerId  Transported\n",
       "0     0001_01        False\n",
       "1     0002_01         True\n",
       "2     0003_01        False\n",
       "3     0003_02        False\n",
       "4     0004_01         True"
      ]
     },
     "execution_count": 38,
     "metadata": {},
     "output_type": "execute_result"
    }
   ],
   "source": [
    "y.head()"
   ]
  },
  {
   "cell_type": "markdown",
   "id": "eadaf83a",
   "metadata": {
    "id": "iZd3J5vP0bu1",
    "papermill": {
     "duration": 0.02466,
     "end_time": "2022-09-29T21:07:35.999437",
     "exception": false,
     "start_time": "2022-09-29T21:07:35.974777",
     "status": "completed"
    },
    "tags": []
   },
   "source": [
    "Apply label encoder to categorical features"
   ]
  },
  {
   "cell_type": "code",
   "execution_count": 39,
   "id": "78157f02",
   "metadata": {
    "execution": {
     "iopub.execute_input": "2022-09-29T21:07:36.052156Z",
     "iopub.status.busy": "2022-09-29T21:07:36.051712Z",
     "iopub.status.idle": "2022-09-29T21:07:36.105235Z",
     "shell.execute_reply": "2022-09-29T21:07:36.104107Z"
    },
    "id": "3B346SfjTmRD",
    "outputId": "f64c539a-0ad0-4472-fcba-4fe46c1e3e02",
    "papermill": {
     "duration": 0.082974,
     "end_time": "2022-09-29T21:07:36.107555",
     "exception": false,
     "start_time": "2022-09-29T21:07:36.024581",
     "status": "completed"
    },
    "tags": []
   },
   "outputs": [
    {
     "data": {
      "text/html": [
       "<div>\n",
       "<style scoped>\n",
       "    .dataframe tbody tr th:only-of-type {\n",
       "        vertical-align: middle;\n",
       "    }\n",
       "\n",
       "    .dataframe tbody tr th {\n",
       "        vertical-align: top;\n",
       "    }\n",
       "\n",
       "    .dataframe thead th {\n",
       "        text-align: right;\n",
       "    }\n",
       "</style>\n",
       "<table border=\"1\" class=\"dataframe\">\n",
       "  <thead>\n",
       "    <tr style=\"text-align: right;\">\n",
       "      <th></th>\n",
       "      <th>PassengerId</th>\n",
       "      <th>Age</th>\n",
       "      <th>RoomService</th>\n",
       "      <th>FoodCourt</th>\n",
       "      <th>ShoppingMall</th>\n",
       "      <th>Spa</th>\n",
       "      <th>VRDeck</th>\n",
       "      <th>TotalExp</th>\n",
       "      <th>CabinNum</th>\n",
       "      <th>PassengerGrp</th>\n",
       "      <th>PassengerNum</th>\n",
       "      <th>HomePlanet_</th>\n",
       "      <th>Is_CryoSleep</th>\n",
       "      <th>Destination_</th>\n",
       "      <th>Is_VIP</th>\n",
       "      <th>CabinDeck_</th>\n",
       "      <th>CabinSide_</th>\n",
       "    </tr>\n",
       "  </thead>\n",
       "  <tbody>\n",
       "    <tr>\n",
       "      <th>0</th>\n",
       "      <td>0001_01</td>\n",
       "      <td>39.0</td>\n",
       "      <td>0.0</td>\n",
       "      <td>0.0</td>\n",
       "      <td>0.0</td>\n",
       "      <td>0.0</td>\n",
       "      <td>0.0</td>\n",
       "      <td>0.0</td>\n",
       "      <td>0</td>\n",
       "      <td>1</td>\n",
       "      <td>1</td>\n",
       "      <td>1</td>\n",
       "      <td>0</td>\n",
       "      <td>2</td>\n",
       "      <td>0</td>\n",
       "      <td>1</td>\n",
       "      <td>0</td>\n",
       "    </tr>\n",
       "    <tr>\n",
       "      <th>1</th>\n",
       "      <td>0002_01</td>\n",
       "      <td>24.0</td>\n",
       "      <td>109.0</td>\n",
       "      <td>9.0</td>\n",
       "      <td>25.0</td>\n",
       "      <td>549.0</td>\n",
       "      <td>44.0</td>\n",
       "      <td>736.0</td>\n",
       "      <td>0</td>\n",
       "      <td>2</td>\n",
       "      <td>1</td>\n",
       "      <td>0</td>\n",
       "      <td>0</td>\n",
       "      <td>2</td>\n",
       "      <td>0</td>\n",
       "      <td>5</td>\n",
       "      <td>1</td>\n",
       "    </tr>\n",
       "    <tr>\n",
       "      <th>2</th>\n",
       "      <td>0003_01</td>\n",
       "      <td>58.0</td>\n",
       "      <td>43.0</td>\n",
       "      <td>3576.0</td>\n",
       "      <td>0.0</td>\n",
       "      <td>6715.0</td>\n",
       "      <td>49.0</td>\n",
       "      <td>10383.0</td>\n",
       "      <td>0</td>\n",
       "      <td>3</td>\n",
       "      <td>1</td>\n",
       "      <td>1</td>\n",
       "      <td>0</td>\n",
       "      <td>2</td>\n",
       "      <td>1</td>\n",
       "      <td>0</td>\n",
       "      <td>1</td>\n",
       "    </tr>\n",
       "    <tr>\n",
       "      <th>3</th>\n",
       "      <td>0003_02</td>\n",
       "      <td>33.0</td>\n",
       "      <td>0.0</td>\n",
       "      <td>1283.0</td>\n",
       "      <td>371.0</td>\n",
       "      <td>3329.0</td>\n",
       "      <td>193.0</td>\n",
       "      <td>5176.0</td>\n",
       "      <td>0</td>\n",
       "      <td>3</td>\n",
       "      <td>2</td>\n",
       "      <td>1</td>\n",
       "      <td>0</td>\n",
       "      <td>2</td>\n",
       "      <td>0</td>\n",
       "      <td>0</td>\n",
       "      <td>1</td>\n",
       "    </tr>\n",
       "    <tr>\n",
       "      <th>4</th>\n",
       "      <td>0004_01</td>\n",
       "      <td>16.0</td>\n",
       "      <td>303.0</td>\n",
       "      <td>70.0</td>\n",
       "      <td>151.0</td>\n",
       "      <td>565.0</td>\n",
       "      <td>2.0</td>\n",
       "      <td>1091.0</td>\n",
       "      <td>1</td>\n",
       "      <td>4</td>\n",
       "      <td>1</td>\n",
       "      <td>0</td>\n",
       "      <td>0</td>\n",
       "      <td>2</td>\n",
       "      <td>0</td>\n",
       "      <td>5</td>\n",
       "      <td>1</td>\n",
       "    </tr>\n",
       "  </tbody>\n",
       "</table>\n",
       "</div>"
      ],
      "text/plain": [
       "  PassengerId   Age  RoomService  FoodCourt  ShoppingMall     Spa  VRDeck  \\\n",
       "0     0001_01  39.0          0.0        0.0           0.0     0.0     0.0   \n",
       "1     0002_01  24.0        109.0        9.0          25.0   549.0    44.0   \n",
       "2     0003_01  58.0         43.0     3576.0           0.0  6715.0    49.0   \n",
       "3     0003_02  33.0          0.0     1283.0         371.0  3329.0   193.0   \n",
       "4     0004_01  16.0        303.0       70.0         151.0   565.0     2.0   \n",
       "\n",
       "   TotalExp  CabinNum  PassengerGrp  PassengerNum  HomePlanet_  Is_CryoSleep  \\\n",
       "0       0.0         0             1             1            1             0   \n",
       "1     736.0         0             2             1            0             0   \n",
       "2   10383.0         0             3             1            1             0   \n",
       "3    5176.0         0             3             2            1             0   \n",
       "4    1091.0         1             4             1            0             0   \n",
       "\n",
       "   Destination_  Is_VIP  CabinDeck_  CabinSide_  \n",
       "0             2       0           1           0  \n",
       "1             2       0           5           1  \n",
       "2             2       1           0           1  \n",
       "3             2       0           0           1  \n",
       "4             2       0           5           1  "
      ]
     },
     "execution_count": 39,
     "metadata": {},
     "output_type": "execute_result"
    }
   ],
   "source": [
    "from sklearn.preprocessing import LabelEncoder, StandardScaler, PolynomialFeatures\n",
    "\n",
    "le = LabelEncoder()\n",
    "categories = ['HomePlanet', 'CryoSleep', 'Destination',\n",
    "              'VIP', 'CabinDeck', 'CabinSide']\n",
    "encoded_ = []\n",
    "test_enc = []\n",
    "\n",
    "for col in categories:\n",
    "    X_encoded = le.fit_transform(X[col])\n",
    "    test_encoded = le.fit_transform(test_[col])\n",
    "    encoded_.append(X_encoded)\n",
    "    test_enc.append(test_encoded)\n",
    "\n",
    "df_encoded = pd.DataFrame({'HomePlanet_': encoded_[0],\n",
    "                           'Is_CryoSleep': encoded_[1],\n",
    "                           'Destination_': encoded_[2],\n",
    "                           'Is_VIP': encoded_[3],\n",
    "                           'CabinDeck_': encoded_[4],\n",
    "                           'CabinSide_': encoded_[5]})\n",
    "\n",
    "df_test_encoded = pd.DataFrame({'HomePlanet_': test_enc[0],\n",
    "                           'Is_CryoSleep': test_enc[1],\n",
    "                           'Destination_': test_enc[2],\n",
    "                           'Is_VIP': test_enc[3],\n",
    "                           'CabinDeck_': test_enc[4],\n",
    "                           'CabinSide_': test_enc[5]})\n",
    "\n",
    "X = pd.concat([X, df_encoded], axis = 1)\n",
    "X.drop(columns = categories, inplace = True)\n",
    "test_ = pd.concat([test_, df_test_encoded], axis = 1)\n",
    "test_.drop(columns = categories, inplace = True)\n",
    "X.head()\n",
    "# test_.head()"
   ]
  },
  {
   "cell_type": "code",
   "execution_count": 40,
   "id": "5e6e4e0b",
   "metadata": {
    "execution": {
     "iopub.execute_input": "2022-09-29T21:07:36.161142Z",
     "iopub.status.busy": "2022-09-29T21:07:36.160707Z",
     "iopub.status.idle": "2022-09-29T21:07:36.176296Z",
     "shell.execute_reply": "2022-09-29T21:07:36.175123Z"
    },
    "id": "anYLOqGS9ljj",
    "outputId": "ae5235db-231f-49ba-9e20-7643cc6189a3",
    "papermill": {
     "duration": 0.045185,
     "end_time": "2022-09-29T21:07:36.178645",
     "exception": false,
     "start_time": "2022-09-29T21:07:36.133460",
     "status": "completed"
    },
    "tags": []
   },
   "outputs": [
    {
     "data": {
      "text/html": [
       "<div>\n",
       "<style scoped>\n",
       "    .dataframe tbody tr th:only-of-type {\n",
       "        vertical-align: middle;\n",
       "    }\n",
       "\n",
       "    .dataframe tbody tr th {\n",
       "        vertical-align: top;\n",
       "    }\n",
       "\n",
       "    .dataframe thead th {\n",
       "        text-align: right;\n",
       "    }\n",
       "</style>\n",
       "<table border=\"1\" class=\"dataframe\">\n",
       "  <thead>\n",
       "    <tr style=\"text-align: right;\">\n",
       "      <th></th>\n",
       "      <th>PassengerId</th>\n",
       "      <th>Transported_enc</th>\n",
       "    </tr>\n",
       "  </thead>\n",
       "  <tbody>\n",
       "    <tr>\n",
       "      <th>0</th>\n",
       "      <td>0001_01</td>\n",
       "      <td>0</td>\n",
       "    </tr>\n",
       "    <tr>\n",
       "      <th>1</th>\n",
       "      <td>0002_01</td>\n",
       "      <td>1</td>\n",
       "    </tr>\n",
       "    <tr>\n",
       "      <th>2</th>\n",
       "      <td>0003_01</td>\n",
       "      <td>0</td>\n",
       "    </tr>\n",
       "    <tr>\n",
       "      <th>3</th>\n",
       "      <td>0003_02</td>\n",
       "      <td>0</td>\n",
       "    </tr>\n",
       "    <tr>\n",
       "      <th>4</th>\n",
       "      <td>0004_01</td>\n",
       "      <td>1</td>\n",
       "    </tr>\n",
       "  </tbody>\n",
       "</table>\n",
       "</div>"
      ],
      "text/plain": [
       "  PassengerId  Transported_enc\n",
       "0     0001_01                0\n",
       "1     0002_01                1\n",
       "2     0003_01                0\n",
       "3     0003_02                0\n",
       "4     0004_01                1"
      ]
     },
     "execution_count": 40,
     "metadata": {},
     "output_type": "execute_result"
    }
   ],
   "source": [
    "y_encoded = le.fit_transform(y['Transported'])\n",
    "df_encoded = pd.DataFrame({'Transported_enc': y_encoded})\n",
    "y = pd.concat([y, df_encoded], axis = 1)\n",
    "y = y.drop(columns = ['Transported'])\n",
    "y.head()"
   ]
  },
  {
   "cell_type": "code",
   "execution_count": 41,
   "id": "26e93bfc",
   "metadata": {
    "execution": {
     "iopub.execute_input": "2022-09-29T21:07:36.232350Z",
     "iopub.status.busy": "2022-09-29T21:07:36.231910Z",
     "iopub.status.idle": "2022-09-29T21:07:36.239421Z",
     "shell.execute_reply": "2022-09-29T21:07:36.238366Z"
    },
    "id": "KmdK-qlI5dX2",
    "papermill": {
     "duration": 0.037216,
     "end_time": "2022-09-29T21:07:36.241599",
     "exception": false,
     "start_time": "2022-09-29T21:07:36.204383",
     "status": "completed"
    },
    "tags": []
   },
   "outputs": [],
   "source": [
    "# Setting PassengerId as the index\n",
    "index_ = ['PassengerId']\n",
    "X = X.set_index(index_)\n",
    "y = y.set_index(index_)"
   ]
  },
  {
   "cell_type": "code",
   "execution_count": 42,
   "id": "ba3dad5f",
   "metadata": {
    "execution": {
     "iopub.execute_input": "2022-09-29T21:07:36.296500Z",
     "iopub.status.busy": "2022-09-29T21:07:36.296119Z",
     "iopub.status.idle": "2022-09-29T21:07:36.316864Z",
     "shell.execute_reply": "2022-09-29T21:07:36.315754Z"
    },
    "id": "vx2cRpsMIo-d",
    "outputId": "09300b3c-2e64-449d-abf8-77b68590f634",
    "papermill": {
     "duration": 0.052162,
     "end_time": "2022-09-29T21:07:36.319404",
     "exception": false,
     "start_time": "2022-09-29T21:07:36.267242",
     "status": "completed"
    },
    "tags": []
   },
   "outputs": [
    {
     "data": {
      "text/html": [
       "<div>\n",
       "<style scoped>\n",
       "    .dataframe tbody tr th:only-of-type {\n",
       "        vertical-align: middle;\n",
       "    }\n",
       "\n",
       "    .dataframe tbody tr th {\n",
       "        vertical-align: top;\n",
       "    }\n",
       "\n",
       "    .dataframe thead th {\n",
       "        text-align: right;\n",
       "    }\n",
       "</style>\n",
       "<table border=\"1\" class=\"dataframe\">\n",
       "  <thead>\n",
       "    <tr style=\"text-align: right;\">\n",
       "      <th></th>\n",
       "      <th>Age</th>\n",
       "      <th>RoomService</th>\n",
       "      <th>FoodCourt</th>\n",
       "      <th>ShoppingMall</th>\n",
       "      <th>Spa</th>\n",
       "      <th>VRDeck</th>\n",
       "      <th>TotalExp</th>\n",
       "      <th>CabinNum</th>\n",
       "      <th>PassengerGrp</th>\n",
       "      <th>PassengerNum</th>\n",
       "      <th>HomePlanet_</th>\n",
       "      <th>Is_CryoSleep</th>\n",
       "      <th>Destination_</th>\n",
       "      <th>Is_VIP</th>\n",
       "      <th>CabinDeck_</th>\n",
       "      <th>CabinSide_</th>\n",
       "    </tr>\n",
       "    <tr>\n",
       "      <th>PassengerId</th>\n",
       "      <th></th>\n",
       "      <th></th>\n",
       "      <th></th>\n",
       "      <th></th>\n",
       "      <th></th>\n",
       "      <th></th>\n",
       "      <th></th>\n",
       "      <th></th>\n",
       "      <th></th>\n",
       "      <th></th>\n",
       "      <th></th>\n",
       "      <th></th>\n",
       "      <th></th>\n",
       "      <th></th>\n",
       "      <th></th>\n",
       "      <th></th>\n",
       "    </tr>\n",
       "  </thead>\n",
       "  <tbody>\n",
       "    <tr>\n",
       "      <th>0001_01</th>\n",
       "      <td>39.0</td>\n",
       "      <td>0.0</td>\n",
       "      <td>0.0</td>\n",
       "      <td>0.0</td>\n",
       "      <td>0.0</td>\n",
       "      <td>0.0</td>\n",
       "      <td>0.0</td>\n",
       "      <td>0</td>\n",
       "      <td>1</td>\n",
       "      <td>1</td>\n",
       "      <td>1</td>\n",
       "      <td>0</td>\n",
       "      <td>2</td>\n",
       "      <td>0</td>\n",
       "      <td>1</td>\n",
       "      <td>0</td>\n",
       "    </tr>\n",
       "    <tr>\n",
       "      <th>0002_01</th>\n",
       "      <td>24.0</td>\n",
       "      <td>109.0</td>\n",
       "      <td>9.0</td>\n",
       "      <td>25.0</td>\n",
       "      <td>549.0</td>\n",
       "      <td>44.0</td>\n",
       "      <td>736.0</td>\n",
       "      <td>0</td>\n",
       "      <td>2</td>\n",
       "      <td>1</td>\n",
       "      <td>0</td>\n",
       "      <td>0</td>\n",
       "      <td>2</td>\n",
       "      <td>0</td>\n",
       "      <td>5</td>\n",
       "      <td>1</td>\n",
       "    </tr>\n",
       "    <tr>\n",
       "      <th>0003_01</th>\n",
       "      <td>58.0</td>\n",
       "      <td>43.0</td>\n",
       "      <td>3576.0</td>\n",
       "      <td>0.0</td>\n",
       "      <td>6715.0</td>\n",
       "      <td>49.0</td>\n",
       "      <td>10383.0</td>\n",
       "      <td>0</td>\n",
       "      <td>3</td>\n",
       "      <td>1</td>\n",
       "      <td>1</td>\n",
       "      <td>0</td>\n",
       "      <td>2</td>\n",
       "      <td>1</td>\n",
       "      <td>0</td>\n",
       "      <td>1</td>\n",
       "    </tr>\n",
       "    <tr>\n",
       "      <th>0003_02</th>\n",
       "      <td>33.0</td>\n",
       "      <td>0.0</td>\n",
       "      <td>1283.0</td>\n",
       "      <td>371.0</td>\n",
       "      <td>3329.0</td>\n",
       "      <td>193.0</td>\n",
       "      <td>5176.0</td>\n",
       "      <td>0</td>\n",
       "      <td>3</td>\n",
       "      <td>2</td>\n",
       "      <td>1</td>\n",
       "      <td>0</td>\n",
       "      <td>2</td>\n",
       "      <td>0</td>\n",
       "      <td>0</td>\n",
       "      <td>1</td>\n",
       "    </tr>\n",
       "    <tr>\n",
       "      <th>0004_01</th>\n",
       "      <td>16.0</td>\n",
       "      <td>303.0</td>\n",
       "      <td>70.0</td>\n",
       "      <td>151.0</td>\n",
       "      <td>565.0</td>\n",
       "      <td>2.0</td>\n",
       "      <td>1091.0</td>\n",
       "      <td>1</td>\n",
       "      <td>4</td>\n",
       "      <td>1</td>\n",
       "      <td>0</td>\n",
       "      <td>0</td>\n",
       "      <td>2</td>\n",
       "      <td>0</td>\n",
       "      <td>5</td>\n",
       "      <td>1</td>\n",
       "    </tr>\n",
       "  </tbody>\n",
       "</table>\n",
       "</div>"
      ],
      "text/plain": [
       "              Age  RoomService  FoodCourt  ShoppingMall     Spa  VRDeck  \\\n",
       "PassengerId                                                               \n",
       "0001_01      39.0          0.0        0.0           0.0     0.0     0.0   \n",
       "0002_01      24.0        109.0        9.0          25.0   549.0    44.0   \n",
       "0003_01      58.0         43.0     3576.0           0.0  6715.0    49.0   \n",
       "0003_02      33.0          0.0     1283.0         371.0  3329.0   193.0   \n",
       "0004_01      16.0        303.0       70.0         151.0   565.0     2.0   \n",
       "\n",
       "             TotalExp  CabinNum  PassengerGrp  PassengerNum  HomePlanet_  \\\n",
       "PassengerId                                                                \n",
       "0001_01           0.0         0             1             1            1   \n",
       "0002_01         736.0         0             2             1            0   \n",
       "0003_01       10383.0         0             3             1            1   \n",
       "0003_02        5176.0         0             3             2            1   \n",
       "0004_01        1091.0         1             4             1            0   \n",
       "\n",
       "             Is_CryoSleep  Destination_  Is_VIP  CabinDeck_  CabinSide_  \n",
       "PassengerId                                                              \n",
       "0001_01                 0             2       0           1           0  \n",
       "0002_01                 0             2       0           5           1  \n",
       "0003_01                 0             2       1           0           1  \n",
       "0003_02                 0             2       0           0           1  \n",
       "0004_01                 0             2       0           5           1  "
      ]
     },
     "execution_count": 42,
     "metadata": {},
     "output_type": "execute_result"
    }
   ],
   "source": [
    "X.head()"
   ]
  },
  {
   "cell_type": "code",
   "execution_count": 43,
   "id": "11b4866a",
   "metadata": {
    "execution": {
     "iopub.execute_input": "2022-09-29T21:07:36.377198Z",
     "iopub.status.busy": "2022-09-29T21:07:36.376401Z",
     "iopub.status.idle": "2022-09-29T21:07:36.386565Z",
     "shell.execute_reply": "2022-09-29T21:07:36.385602Z"
    },
    "id": "cJ0WiAozL0Dj",
    "outputId": "b4e25845-bdc0-4188-fa6e-c613ed05fed2",
    "papermill": {
     "duration": 0.040471,
     "end_time": "2022-09-29T21:07:36.388818",
     "exception": false,
     "start_time": "2022-09-29T21:07:36.348347",
     "status": "completed"
    },
    "tags": []
   },
   "outputs": [
    {
     "data": {
      "text/html": [
       "<div>\n",
       "<style scoped>\n",
       "    .dataframe tbody tr th:only-of-type {\n",
       "        vertical-align: middle;\n",
       "    }\n",
       "\n",
       "    .dataframe tbody tr th {\n",
       "        vertical-align: top;\n",
       "    }\n",
       "\n",
       "    .dataframe thead th {\n",
       "        text-align: right;\n",
       "    }\n",
       "</style>\n",
       "<table border=\"1\" class=\"dataframe\">\n",
       "  <thead>\n",
       "    <tr style=\"text-align: right;\">\n",
       "      <th></th>\n",
       "      <th>Transported_enc</th>\n",
       "    </tr>\n",
       "    <tr>\n",
       "      <th>PassengerId</th>\n",
       "      <th></th>\n",
       "    </tr>\n",
       "  </thead>\n",
       "  <tbody>\n",
       "    <tr>\n",
       "      <th>0001_01</th>\n",
       "      <td>0</td>\n",
       "    </tr>\n",
       "    <tr>\n",
       "      <th>0002_01</th>\n",
       "      <td>1</td>\n",
       "    </tr>\n",
       "    <tr>\n",
       "      <th>0003_01</th>\n",
       "      <td>0</td>\n",
       "    </tr>\n",
       "    <tr>\n",
       "      <th>0003_02</th>\n",
       "      <td>0</td>\n",
       "    </tr>\n",
       "    <tr>\n",
       "      <th>0004_01</th>\n",
       "      <td>1</td>\n",
       "    </tr>\n",
       "  </tbody>\n",
       "</table>\n",
       "</div>"
      ],
      "text/plain": [
       "             Transported_enc\n",
       "PassengerId                 \n",
       "0001_01                    0\n",
       "0002_01                    1\n",
       "0003_01                    0\n",
       "0003_02                    0\n",
       "0004_01                    1"
      ]
     },
     "execution_count": 43,
     "metadata": {},
     "output_type": "execute_result"
    }
   ],
   "source": [
    "y.head()"
   ]
  },
  {
   "cell_type": "code",
   "execution_count": 44,
   "id": "d53f6abe",
   "metadata": {
    "execution": {
     "iopub.execute_input": "2022-09-29T21:07:36.445628Z",
     "iopub.status.busy": "2022-09-29T21:07:36.444846Z",
     "iopub.status.idle": "2022-09-29T21:07:36.465873Z",
     "shell.execute_reply": "2022-09-29T21:07:36.464651Z"
    },
    "papermill": {
     "duration": 0.051347,
     "end_time": "2022-09-29T21:07:36.468243",
     "exception": false,
     "start_time": "2022-09-29T21:07:36.416896",
     "status": "completed"
    },
    "tags": []
   },
   "outputs": [
    {
     "data": {
      "text/html": [
       "<div>\n",
       "<style scoped>\n",
       "    .dataframe tbody tr th:only-of-type {\n",
       "        vertical-align: middle;\n",
       "    }\n",
       "\n",
       "    .dataframe tbody tr th {\n",
       "        vertical-align: top;\n",
       "    }\n",
       "\n",
       "    .dataframe thead th {\n",
       "        text-align: right;\n",
       "    }\n",
       "</style>\n",
       "<table border=\"1\" class=\"dataframe\">\n",
       "  <thead>\n",
       "    <tr style=\"text-align: right;\">\n",
       "      <th></th>\n",
       "      <th>PassengerId</th>\n",
       "      <th>Age</th>\n",
       "      <th>RoomService</th>\n",
       "      <th>FoodCourt</th>\n",
       "      <th>ShoppingMall</th>\n",
       "      <th>Spa</th>\n",
       "      <th>VRDeck</th>\n",
       "      <th>TotalExp</th>\n",
       "      <th>CabinNum</th>\n",
       "      <th>PassengerGrp</th>\n",
       "      <th>PassengerNum</th>\n",
       "      <th>HomePlanet_</th>\n",
       "      <th>Is_CryoSleep</th>\n",
       "      <th>Destination_</th>\n",
       "      <th>Is_VIP</th>\n",
       "      <th>CabinDeck_</th>\n",
       "      <th>CabinSide_</th>\n",
       "    </tr>\n",
       "  </thead>\n",
       "  <tbody>\n",
       "    <tr>\n",
       "      <th>0</th>\n",
       "      <td>0013_01</td>\n",
       "      <td>27.0</td>\n",
       "      <td>0.0</td>\n",
       "      <td>0.0</td>\n",
       "      <td>0.0</td>\n",
       "      <td>0.0</td>\n",
       "      <td>0.0</td>\n",
       "      <td>0.0</td>\n",
       "      <td>3</td>\n",
       "      <td>13</td>\n",
       "      <td>1</td>\n",
       "      <td>0</td>\n",
       "      <td>1</td>\n",
       "      <td>2</td>\n",
       "      <td>0</td>\n",
       "      <td>6</td>\n",
       "      <td>1</td>\n",
       "    </tr>\n",
       "    <tr>\n",
       "      <th>1</th>\n",
       "      <td>0018_01</td>\n",
       "      <td>19.0</td>\n",
       "      <td>0.0</td>\n",
       "      <td>9.0</td>\n",
       "      <td>0.0</td>\n",
       "      <td>2823.0</td>\n",
       "      <td>0.0</td>\n",
       "      <td>2832.0</td>\n",
       "      <td>4</td>\n",
       "      <td>18</td>\n",
       "      <td>1</td>\n",
       "      <td>0</td>\n",
       "      <td>0</td>\n",
       "      <td>2</td>\n",
       "      <td>0</td>\n",
       "      <td>5</td>\n",
       "      <td>1</td>\n",
       "    </tr>\n",
       "    <tr>\n",
       "      <th>2</th>\n",
       "      <td>0019_01</td>\n",
       "      <td>31.0</td>\n",
       "      <td>0.0</td>\n",
       "      <td>0.0</td>\n",
       "      <td>0.0</td>\n",
       "      <td>0.0</td>\n",
       "      <td>0.0</td>\n",
       "      <td>0.0</td>\n",
       "      <td>0</td>\n",
       "      <td>19</td>\n",
       "      <td>1</td>\n",
       "      <td>1</td>\n",
       "      <td>1</td>\n",
       "      <td>0</td>\n",
       "      <td>0</td>\n",
       "      <td>2</td>\n",
       "      <td>1</td>\n",
       "    </tr>\n",
       "    <tr>\n",
       "      <th>3</th>\n",
       "      <td>0021_01</td>\n",
       "      <td>38.0</td>\n",
       "      <td>0.0</td>\n",
       "      <td>6652.0</td>\n",
       "      <td>0.0</td>\n",
       "      <td>181.0</td>\n",
       "      <td>585.0</td>\n",
       "      <td>7418.0</td>\n",
       "      <td>1</td>\n",
       "      <td>21</td>\n",
       "      <td>1</td>\n",
       "      <td>1</td>\n",
       "      <td>0</td>\n",
       "      <td>2</td>\n",
       "      <td>0</td>\n",
       "      <td>2</td>\n",
       "      <td>1</td>\n",
       "    </tr>\n",
       "    <tr>\n",
       "      <th>4</th>\n",
       "      <td>0023_01</td>\n",
       "      <td>20.0</td>\n",
       "      <td>10.0</td>\n",
       "      <td>0.0</td>\n",
       "      <td>635.0</td>\n",
       "      <td>0.0</td>\n",
       "      <td>0.0</td>\n",
       "      <td>645.0</td>\n",
       "      <td>5</td>\n",
       "      <td>23</td>\n",
       "      <td>1</td>\n",
       "      <td>0</td>\n",
       "      <td>0</td>\n",
       "      <td>2</td>\n",
       "      <td>0</td>\n",
       "      <td>5</td>\n",
       "      <td>1</td>\n",
       "    </tr>\n",
       "  </tbody>\n",
       "</table>\n",
       "</div>"
      ],
      "text/plain": [
       "  PassengerId   Age  RoomService  FoodCourt  ShoppingMall     Spa  VRDeck  \\\n",
       "0     0013_01  27.0          0.0        0.0           0.0     0.0     0.0   \n",
       "1     0018_01  19.0          0.0        9.0           0.0  2823.0     0.0   \n",
       "2     0019_01  31.0          0.0        0.0           0.0     0.0     0.0   \n",
       "3     0021_01  38.0          0.0     6652.0           0.0   181.0   585.0   \n",
       "4     0023_01  20.0         10.0        0.0         635.0     0.0     0.0   \n",
       "\n",
       "   TotalExp  CabinNum  PassengerGrp  PassengerNum  HomePlanet_  Is_CryoSleep  \\\n",
       "0       0.0         3            13             1            0             1   \n",
       "1    2832.0         4            18             1            0             0   \n",
       "2       0.0         0            19             1            1             1   \n",
       "3    7418.0         1            21             1            1             0   \n",
       "4     645.0         5            23             1            0             0   \n",
       "\n",
       "   Destination_  Is_VIP  CabinDeck_  CabinSide_  \n",
       "0             2       0           6           1  \n",
       "1             2       0           5           1  \n",
       "2             0       0           2           1  \n",
       "3             2       0           2           1  \n",
       "4             2       0           5           1  "
      ]
     },
     "execution_count": 44,
     "metadata": {},
     "output_type": "execute_result"
    }
   ],
   "source": [
    "test_.head()"
   ]
  },
  {
   "cell_type": "code",
   "execution_count": 45,
   "id": "1337c609",
   "metadata": {
    "execution": {
     "iopub.execute_input": "2022-09-29T21:07:36.525185Z",
     "iopub.status.busy": "2022-09-29T21:07:36.524511Z",
     "iopub.status.idle": "2022-09-29T21:07:36.543840Z",
     "shell.execute_reply": "2022-09-29T21:07:36.542908Z"
    },
    "id": "iB5qBGn7F4Zj",
    "papermill": {
     "duration": 0.051322,
     "end_time": "2022-09-29T21:07:36.546315",
     "exception": false,
     "start_time": "2022-09-29T21:07:36.494993",
     "status": "completed"
    },
    "tags": []
   },
   "outputs": [],
   "source": [
    "test = test_.copy()\n",
    "test = test.drop(columns = ['PassengerId'])\n",
    "\n",
    "scaler = StandardScaler(with_mean = False, with_std = True)\n",
    "scaled_ = scaler.fit_transform(X)\n",
    "scaled_test = scaler.fit_transform(test)\n",
    "scaled_ = pd.DataFrame(scaled_, columns = X.columns)\n",
    "scaled_test = pd.DataFrame(scaled_test, columns = test.columns)\n",
    "# scaled_.head()"
   ]
  },
  {
   "cell_type": "code",
   "execution_count": 46,
   "id": "8fedf7ea",
   "metadata": {
    "execution": {
     "iopub.execute_input": "2022-09-29T21:07:36.608254Z",
     "iopub.status.busy": "2022-09-29T21:07:36.607521Z",
     "iopub.status.idle": "2022-09-29T21:07:36.636219Z",
     "shell.execute_reply": "2022-09-29T21:07:36.634988Z"
    },
    "id": "IqtqArfViORD",
    "outputId": "025619aa-5339-41cf-cd2e-a6d2e7b1e79f",
    "papermill": {
     "duration": 0.066391,
     "end_time": "2022-09-29T21:07:36.639270",
     "exception": false,
     "start_time": "2022-09-29T21:07:36.572879",
     "status": "completed"
    },
    "tags": []
   },
   "outputs": [
    {
     "data": {
      "text/plain": [
       "(8693, 152)"
      ]
     },
     "execution_count": 46,
     "metadata": {},
     "output_type": "execute_result"
    }
   ],
   "source": [
    "poly_ = PolynomialFeatures(include_bias = False)\n",
    "scaled_ = poly_.fit_transform(scaled_)\n",
    "scaled_ = pd.DataFrame(scaled_)\n",
    "scaled_.shape"
   ]
  },
  {
   "cell_type": "code",
   "execution_count": 47,
   "id": "7285c5a6",
   "metadata": {
    "execution": {
     "iopub.execute_input": "2022-09-29T21:07:36.720164Z",
     "iopub.status.busy": "2022-09-29T21:07:36.719417Z",
     "iopub.status.idle": "2022-09-29T21:07:36.739069Z",
     "shell.execute_reply": "2022-09-29T21:07:36.737550Z"
    },
    "papermill": {
     "duration": 0.061465,
     "end_time": "2022-09-29T21:07:36.741445",
     "exception": false,
     "start_time": "2022-09-29T21:07:36.679980",
     "status": "completed"
    },
    "tags": []
   },
   "outputs": [
    {
     "data": {
      "text/plain": [
       "(4277, 152)"
      ]
     },
     "execution_count": 47,
     "metadata": {},
     "output_type": "execute_result"
    }
   ],
   "source": [
    "poly_ = PolynomialFeatures(include_bias = False)\n",
    "scaled_test = poly_.fit_transform(scaled_test)\n",
    "scaled_test = pd.DataFrame(scaled_test)\n",
    "scaled_test.shape"
   ]
  },
  {
   "cell_type": "markdown",
   "id": "0a8fccea",
   "metadata": {
    "id": "OM7GPrMPfNk-",
    "papermill": {
     "duration": 0.026048,
     "end_time": "2022-09-29T21:07:36.795136",
     "exception": false,
     "start_time": "2022-09-29T21:07:36.769088",
     "status": "completed"
    },
    "tags": []
   },
   "source": [
    "### **Model Training and Evaluation**"
   ]
  },
  {
   "cell_type": "code",
   "execution_count": 48,
   "id": "d860a817",
   "metadata": {
    "execution": {
     "iopub.execute_input": "2022-09-29T21:07:36.858787Z",
     "iopub.status.busy": "2022-09-29T21:07:36.857824Z",
     "iopub.status.idle": "2022-09-29T21:07:36.873984Z",
     "shell.execute_reply": "2022-09-29T21:07:36.873077Z"
    },
    "id": "YlHd6fH6bE9w",
    "papermill": {
     "duration": 0.046919,
     "end_time": "2022-09-29T21:07:36.877136",
     "exception": false,
     "start_time": "2022-09-29T21:07:36.830217",
     "status": "completed"
    },
    "tags": []
   },
   "outputs": [],
   "source": [
    "from sklearn.model_selection import train_test_split\n",
    "from sklearn.linear_model import LogisticRegression\n",
    "\n",
    "X_train, X_test, y_train, y_test = train_test_split(scaled_, y, test_size = 0.33,\n",
    "                                                    random_state = 101)"
   ]
  },
  {
   "cell_type": "code",
   "execution_count": 49,
   "id": "f357b6e7",
   "metadata": {
    "execution": {
     "iopub.execute_input": "2022-09-29T21:07:36.939836Z",
     "iopub.status.busy": "2022-09-29T21:07:36.939455Z",
     "iopub.status.idle": "2022-09-29T21:07:37.968859Z",
     "shell.execute_reply": "2022-09-29T21:07:37.967541Z"
    },
    "id": "4wdtFJ13gKvN",
    "outputId": "98fb5f56-89f5-404b-d9b4-9dd76c07cde8",
    "papermill": {
     "duration": 1.059656,
     "end_time": "2022-09-29T21:07:37.971320",
     "exception": false,
     "start_time": "2022-09-29T21:07:36.911664",
     "status": "completed"
    },
    "tags": []
   },
   "outputs": [
    {
     "data": {
      "text/plain": [
       "LogisticRegression(solver='liblinear')"
      ]
     },
     "execution_count": 49,
     "metadata": {},
     "output_type": "execute_result"
    }
   ],
   "source": [
    "log_reg = LogisticRegression(solver = 'liblinear')\n",
    "log_reg.fit(X_train, np.ravel(y_train))"
   ]
  },
  {
   "cell_type": "code",
   "execution_count": 50,
   "id": "52e37a13",
   "metadata": {
    "execution": {
     "iopub.execute_input": "2022-09-29T21:07:38.026270Z",
     "iopub.status.busy": "2022-09-29T21:07:38.025842Z",
     "iopub.status.idle": "2022-09-29T21:07:38.041018Z",
     "shell.execute_reply": "2022-09-29T21:07:38.036044Z"
    },
    "id": "eibdE9zyhKWd",
    "papermill": {
     "duration": 0.046798,
     "end_time": "2022-09-29T21:07:38.044416",
     "exception": false,
     "start_time": "2022-09-29T21:07:37.997618",
     "status": "completed"
    },
    "tags": []
   },
   "outputs": [],
   "source": [
    "predicted = log_reg.predict(X_test)"
   ]
  },
  {
   "cell_type": "markdown",
   "id": "c56d56db",
   "metadata": {
    "id": "wuhgqq3gqa_g",
    "papermill": {
     "duration": 0.045457,
     "end_time": "2022-09-29T21:07:38.134992",
     "exception": false,
     "start_time": "2022-09-29T21:07:38.089535",
     "status": "completed"
    },
    "tags": []
   },
   "source": [
    "**Classification Report**"
   ]
  },
  {
   "cell_type": "code",
   "execution_count": 51,
   "id": "d44db2c8",
   "metadata": {
    "execution": {
     "iopub.execute_input": "2022-09-29T21:07:38.198362Z",
     "iopub.status.busy": "2022-09-29T21:07:38.197925Z",
     "iopub.status.idle": "2022-09-29T21:07:38.214409Z",
     "shell.execute_reply": "2022-09-29T21:07:38.212400Z"
    },
    "id": "bkbGxBNkiTzQ",
    "outputId": "a67c4442-5b12-4da2-abb5-c982908e1690",
    "papermill": {
     "duration": 0.047017,
     "end_time": "2022-09-29T21:07:38.217012",
     "exception": false,
     "start_time": "2022-09-29T21:07:38.169995",
     "status": "completed"
    },
    "tags": []
   },
   "outputs": [
    {
     "name": "stdout",
     "output_type": "stream",
     "text": [
      "              precision    recall  f1-score   support\n",
      "\n",
      "           0       0.80      0.78      0.79      1429\n",
      "           1       0.79      0.81      0.80      1440\n",
      "\n",
      "    accuracy                           0.80      2869\n",
      "   macro avg       0.80      0.80      0.80      2869\n",
      "weighted avg       0.80      0.80      0.80      2869\n",
      "\n"
     ]
    }
   ],
   "source": [
    "from sklearn.metrics import classification_report\n",
    "print(classification_report(y_test, predicted))"
   ]
  },
  {
   "cell_type": "markdown",
   "id": "f388fa1d",
   "metadata": {
    "id": "08oYFBZyqY2H",
    "papermill": {
     "duration": 0.027483,
     "end_time": "2022-09-29T21:07:38.271449",
     "exception": false,
     "start_time": "2022-09-29T21:07:38.243966",
     "status": "completed"
    },
    "tags": []
   },
   "source": [
    "**Model Score**"
   ]
  },
  {
   "cell_type": "code",
   "execution_count": 52,
   "id": "96223f05",
   "metadata": {
    "execution": {
     "iopub.execute_input": "2022-09-29T21:07:38.326539Z",
     "iopub.status.busy": "2022-09-29T21:07:38.325688Z",
     "iopub.status.idle": "2022-09-29T21:07:38.333578Z",
     "shell.execute_reply": "2022-09-29T21:07:38.331990Z"
    },
    "id": "eETnaQhMhj8W",
    "outputId": "6b8ba334-3bb4-4e65-ff33-daad2310f224",
    "papermill": {
     "duration": 0.038107,
     "end_time": "2022-09-29T21:07:38.336113",
     "exception": false,
     "start_time": "2022-09-29T21:07:38.298006",
     "status": "completed"
    },
    "tags": []
   },
   "outputs": [
    {
     "name": "stdout",
     "output_type": "stream",
     "text": [
      "The model's accuracy score is 79.75%\n"
     ]
    }
   ],
   "source": [
    "from sklearn.metrics import confusion_matrix, accuracy_score, roc_auc_score\n",
    "print(f\"The model's accuracy score is {round(accuracy_score(y_test, predicted)*100, 2)}%\")"
   ]
  },
  {
   "cell_type": "markdown",
   "id": "90233e6b",
   "metadata": {
    "id": "j1r0HrQap01e",
    "papermill": {
     "duration": 0.026619,
     "end_time": "2022-09-29T21:07:38.390208",
     "exception": false,
     "start_time": "2022-09-29T21:07:38.363589",
     "status": "completed"
    },
    "tags": []
   },
   "source": [
    "**Confusion Matrix**"
   ]
  },
  {
   "cell_type": "code",
   "execution_count": 53,
   "id": "f684e0cd",
   "metadata": {
    "execution": {
     "iopub.execute_input": "2022-09-29T21:07:38.447539Z",
     "iopub.status.busy": "2022-09-29T21:07:38.446440Z",
     "iopub.status.idle": "2022-09-29T21:07:38.742843Z",
     "shell.execute_reply": "2022-09-29T21:07:38.741711Z"
    },
    "id": "d8yySffCiO3n",
    "outputId": "b5e4009e-08ba-42c1-8984-4f85438368a9",
    "papermill": {
     "duration": 0.326969,
     "end_time": "2022-09-29T21:07:38.745499",
     "exception": false,
     "start_time": "2022-09-29T21:07:38.418530",
     "status": "completed"
    },
    "tags": []
   },
   "outputs": [
    {
     "data": {
      "text/plain": [
       "<AxesSubplot:xlabel='Predicted', ylabel='Actual'>"
      ]
     },
     "execution_count": 53,
     "metadata": {},
     "output_type": "execute_result"
    },
    {
     "data": {
      "image/png": "[encoded data removed]",
      "text/plain": [
       "<Figure size 720x504 with 2 Axes>"
      ]
     },
     "metadata": {
      "needs_background": "light"
     },
     "output_type": "display_data"
    }
   ],
   "source": [
    "data = confusion_matrix(y_test, predicted)\n",
    "df_cm = pd.DataFrame(data, columns=np.unique(y_test), index = np.unique(predicted))\n",
    "df_cm.index.name = 'Actual'\n",
    "df_cm.columns.name = 'Predicted'\n",
    "plt.figure(figsize = (10,7))\n",
    "sns.set(font_scale=1.4) # for label size\n",
    "sns.heatmap(df_cm/np.sum(df_cm), cmap=\"Blues\", annot=True,annot_kws={\"size\": 16}, fmt = '.2%')"
   ]
  },
  {
   "cell_type": "markdown",
   "id": "32e3ab57",
   "metadata": {
    "id": "s8D6dh-ws3JU",
    "papermill": {
     "duration": 0.027653,
     "end_time": "2022-09-29T21:07:38.800646",
     "exception": false,
     "start_time": "2022-09-29T21:07:38.772993",
     "status": "completed"
    },
    "tags": []
   },
   "source": [
    "**Observations**\n",
    "* The model has a precision score of 81% in predicting whether a person is transported.\n",
    "* The model also has a recall score of 81%, which means how prevalent the model was predicting whether a person is transported.\n",
    "* Since the precision and recall has the same score, the F1 score also has the score of 81%, which is the weighted average of recall and precision.\n",
    "* The overall accuracy of the model is 80.52%.  "
   ]
  },
  {
   "cell_type": "markdown",
   "id": "56efbd9b",
   "metadata": {
    "id": "tX02muOGxefe",
    "papermill": {
     "duration": 0.026602,
     "end_time": "2022-09-29T21:07:38.854479",
     "exception": false,
     "start_time": "2022-09-29T21:07:38.827877",
     "status": "completed"
    },
    "tags": []
   },
   "source": [
    "**Plotting ROC curve and AUC** "
   ]
  },
  {
   "cell_type": "code",
   "execution_count": 54,
   "id": "a03e2e51",
   "metadata": {
    "execution": {
     "iopub.execute_input": "2022-09-29T21:07:38.910800Z",
     "iopub.status.busy": "2022-09-29T21:07:38.910403Z",
     "iopub.status.idle": "2022-09-29T21:07:39.194454Z",
     "shell.execute_reply": "2022-09-29T21:07:39.193277Z"
    },
    "id": "NuW2S9HMxc72",
    "outputId": "3fcd95db-cd7f-478c-a30a-ccd57288a5a0",
    "papermill": {
     "duration": 0.315122,
     "end_time": "2022-09-29T21:07:39.196854",
     "exception": false,
     "start_time": "2022-09-29T21:07:38.881732",
     "status": "completed"
    },
    "tags": []
   },
   "outputs": [
    {
     "data": {
      "image/png": "[encoded data removed]",
      "text/plain": [
       "<Figure size 720x576 with 1 Axes>"
      ]
     },
     "metadata": {},
     "output_type": "display_data"
    }
   ],
   "source": [
    "from sklearn.metrics import roc_curve\n",
    "pred_prob_ =  log_reg.predict_proba(X_test)[::,1]\n",
    "fpr, tpr, _ = roc_curve(y_test, pred_prob_)\n",
    "auc = roc_auc_score(y_test, pred_prob_)\n",
    "\n",
    "plt.figure(figsize = (10,8))\n",
    "plt.plot(fpr, tpr, color = 'orange', lw = 2,\n",
    "         label = 'ROC Curve (Area = %0.2f)' % auc)\n",
    "plt.plot([0,1], [0, 1], color = 'navy', linestyle = '--', lw = 2)\n",
    "plt.xlabel('False Positive Rate')\n",
    "plt.ylabel('True Positive Rate')\n",
    "plt.title('TP vs FP Rate, ROC curve, and AUC')\n",
    "plt.legend(loc = 'lower right')\n",
    "\n",
    "plt.show()"
   ]
  },
  {
   "cell_type": "markdown",
   "id": "21f9b99b",
   "metadata": {
    "papermill": {
     "duration": 0.027624,
     "end_time": "2022-09-29T21:07:39.252119",
     "exception": false,
     "start_time": "2022-09-29T21:07:39.224495",
     "status": "completed"
    },
    "tags": []
   },
   "source": [
    "### **Importing to submission.csv**"
   ]
  },
  {
   "cell_type": "code",
   "execution_count": 55,
   "id": "a646b08c",
   "metadata": {
    "execution": {
     "iopub.execute_input": "2022-09-29T21:07:39.309252Z",
     "iopub.status.busy": "2022-09-29T21:07:39.308833Z",
     "iopub.status.idle": "2022-09-29T21:07:39.334408Z",
     "shell.execute_reply": "2022-09-29T21:07:39.333035Z"
    },
    "id": "CMNgAaw1yiXQ",
    "papermill": {
     "duration": 0.057885,
     "end_time": "2022-09-29T21:07:39.337925",
     "exception": false,
     "start_time": "2022-09-29T21:07:39.280040",
     "status": "completed"
    },
    "tags": []
   },
   "outputs": [],
   "source": [
    "submission = pd.DataFrame({\n",
    "    'PassengerId' : test_['PassengerId'],\n",
    "    'Transported' : log_reg.predict(scaled_test).astype(bool)\n",
    "})\n",
    "\n",
    "submission.to_csv('./submission.csv', index = False)"
   ]
  },
  {
   "cell_type": "code",
   "execution_count": 56,
   "id": "a65eaed4",
   "metadata": {
    "execution": {
     "iopub.execute_input": "2022-09-29T21:07:39.431385Z",
     "iopub.status.busy": "2022-09-29T21:07:39.430801Z",
     "iopub.status.idle": "2022-09-29T21:07:39.446243Z",
     "shell.execute_reply": "2022-09-29T21:07:39.445318Z"
    },
    "papermill": {
     "duration": 0.064969,
     "end_time": "2022-09-29T21:07:39.448704",
     "exception": false,
     "start_time": "2022-09-29T21:07:39.383735",
     "status": "completed"
    },
    "tags": []
   },
   "outputs": [
    {
     "data": {
      "text/html": [
       "<div>\n",
       "<style scoped>\n",
       "    .dataframe tbody tr th:only-of-type {\n",
       "        vertical-align: middle;\n",
       "    }\n",
       "\n",
       "    .dataframe tbody tr th {\n",
       "        vertical-align: top;\n",
       "    }\n",
       "\n",
       "    .dataframe thead th {\n",
       "        text-align: right;\n",
       "    }\n",
       "</style>\n",
       "<table border=\"1\" class=\"dataframe\">\n",
       "  <thead>\n",
       "    <tr style=\"text-align: right;\">\n",
       "      <th></th>\n",
       "      <th>PassengerId</th>\n",
       "      <th>Transported</th>\n",
       "    </tr>\n",
       "  </thead>\n",
       "  <tbody>\n",
       "    <tr>\n",
       "      <th>0</th>\n",
       "      <td>0013_01</td>\n",
       "      <td>False</td>\n",
       "    </tr>\n",
       "    <tr>\n",
       "      <th>1</th>\n",
       "      <td>0018_01</td>\n",
       "      <td>False</td>\n",
       "    </tr>\n",
       "    <tr>\n",
       "      <th>2</th>\n",
       "      <td>0019_01</td>\n",
       "      <td>True</td>\n",
       "    </tr>\n",
       "    <tr>\n",
       "      <th>3</th>\n",
       "      <td>0021_01</td>\n",
       "      <td>True</td>\n",
       "    </tr>\n",
       "    <tr>\n",
       "      <th>4</th>\n",
       "      <td>0023_01</td>\n",
       "      <td>False</td>\n",
       "    </tr>\n",
       "    <tr>\n",
       "      <th>...</th>\n",
       "      <td>...</td>\n",
       "      <td>...</td>\n",
       "    </tr>\n",
       "    <tr>\n",
       "      <th>4272</th>\n",
       "      <td>9266_02</td>\n",
       "      <td>True</td>\n",
       "    </tr>\n",
       "    <tr>\n",
       "      <th>4273</th>\n",
       "      <td>9269_01</td>\n",
       "      <td>True</td>\n",
       "    </tr>\n",
       "    <tr>\n",
       "      <th>4274</th>\n",
       "      <td>9271_01</td>\n",
       "      <td>True</td>\n",
       "    </tr>\n",
       "    <tr>\n",
       "      <th>4275</th>\n",
       "      <td>9273_01</td>\n",
       "      <td>True</td>\n",
       "    </tr>\n",
       "    <tr>\n",
       "      <th>4276</th>\n",
       "      <td>9277_01</td>\n",
       "      <td>True</td>\n",
       "    </tr>\n",
       "  </tbody>\n",
       "</table>\n",
       "<p>4277 rows × 2 columns</p>\n",
       "</div>"
      ],
      "text/plain": [
       "     PassengerId  Transported\n",
       "0        0013_01        False\n",
       "1        0018_01        False\n",
       "2        0019_01         True\n",
       "3        0021_01         True\n",
       "4        0023_01        False\n",
       "...          ...          ...\n",
       "4272     9266_02         True\n",
       "4273     9269_01         True\n",
       "4274     9271_01         True\n",
       "4275     9273_01         True\n",
       "4276     9277_01         True\n",
       "\n",
       "[4277 rows x 2 columns]"
      ]
     },
     "execution_count": 56,
     "metadata": {},
     "output_type": "execute_result"
    }
   ],
   "source": [
    "submission"
   ]
  },
  {
   "cell_type": "code",
   "execution_count": null,
   "id": "3254bab1",
   "metadata": {
    "papermill": {
     "duration": 0.027772,
     "end_time": "2022-09-29T21:07:39.505091",
     "exception": false,
     "start_time": "2022-09-29T21:07:39.477319",
     "status": "completed"
    },
    "tags": []
   },
   "outputs": [],
   "source": []
  }
 ],
 "metadata": {
  "kernelspec": {
   "display_name": "Python 3",
   "language": "python",
   "name": "python3"
  },
  "language_info": {
   "codemirror_mode": {
    "name": "ipython",
    "version": 3
   },
   "file_extension": ".py",
   "mimetype": "text/x-python",
   "name": "python",
   "nbconvert_exporter": "python",
   "pygments_lexer": "ipython3",
   "version": "3.7.12"
  },
  "papermill": {
   "default_parameters": {},
   "duration": 24.91885,
   "end_time": "2022-09-29T21:07:40.357153",
   "environment_variables": {},
   "exception": null,
   "input_path": "__notebook__.ipynb",
   "output_path": "__notebook__.ipynb",
   "parameters": {},
   "start_time": "2022-09-29T21:07:15.438303",
   "version": "2.3.4"
  }
 },
 "nbformat": 4,
 "nbformat_minor": 5
}
